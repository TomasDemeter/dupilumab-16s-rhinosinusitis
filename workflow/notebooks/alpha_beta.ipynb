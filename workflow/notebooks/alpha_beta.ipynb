{
 "cells": [
  {
   "cell_type": "markdown",
   "metadata": {},
   "source": [
    "# Load libraries and data"
   ]
  },
  {
   "cell_type": "code",
   "execution_count": null,
   "metadata": {
    "vscode": {
     "languageId": "r"
    }
   },
   "outputs": [],
   "source": [
    "library(tidyverse)\n",
    "library(phyloseq)\n",
    "library(microbiome)\n",
    "library(rstatix)\n",
    "library(vegan)\n",
    "library(ggrepel)\n",
    "library(gridExtra)\n",
    "library(rlang)\n",
    "library(viridis)\n",
    "library(ggpubr)\n",
    "library(RVAideMemoire)\n",
    "\n",
    "options(repr.plot.width=20, repr.plot.height=10)"
   ]
  },
  {
   "cell_type": "code",
   "execution_count": null,
   "metadata": {
    "vscode": {
     "languageId": "r"
    }
   },
   "outputs": [],
   "source": [
    "nasal_phylo_rarefied <- readRDS(\"../../results/Microbiome_analysis/nasal_samples_clean_rarefied.rds\")\n",
    "nasal_phylo_rarefied"
   ]
  },
  {
   "cell_type": "code",
   "execution_count": null,
   "metadata": {
    "vscode": {
     "languageId": "r"
    }
   },
   "outputs": [],
   "source": [
    "gut_phylo_rarefied <- readRDS(\"../../results/Microbiome_analysis/gut_samples_clean_rarefied.rds\")\n",
    "gut_phylo_rarefied"
   ]
  },
  {
   "cell_type": "markdown",
   "metadata": {},
   "source": [
    "# Alpha diversity"
   ]
  },
  {
   "cell_type": "markdown",
   "metadata": {},
   "source": [
    "## Functions"
   ]
  },
  {
   "cell_type": "code",
   "execution_count": null,
   "metadata": {
    "vscode": {
     "languageId": "r"
    }
   },
   "outputs": [],
   "source": [
    "# Calculate diversity index\n",
    "calculate_diversity_index <- function(phyloseq, index) {\n",
    "  estimate_richness(phyloseq, measures = c(index))[, index]\n",
    "}\n",
    "\n",
    "# Prepare data for plotting\n",
    "prepare_plot_data <- function(phyloseq, comparisons, index) {\n",
    "  # Extract index and timepoint data\n",
    "  plot_data <- data.frame(\n",
    "    diversity = calculate_diversity_index(phyloseq, index),\n",
    "    timepoint = sample_data(phyloseq)$timepoint\n",
    "  )\n",
    "  \n",
    "  # Convert timepoint to character and filter based on comparisons\n",
    "  plot_data$timepoint <- as.character(plot_data$timepoint)\n",
    "  timepoints_to_include <- unique(unlist(comparisons))\n",
    "  plot_data <- plot_data[plot_data$timepoint %in% timepoints_to_include,]\n",
    "  \n",
    "  # Set the order of timepoints\n",
    "  timepoint_order <- c(\"healthy day 0\", \"0\", \"28\", \"90\", \"180\")\n",
    "  plot_data$timepoint <- factor(plot_data$timepoint, levels = timepoint_order)\n",
    "  \n",
    "  return(plot_data)\n",
    "}\n",
    "\n",
    "# Perform statistical tests\n",
    "perform_statistical_tests <- function(plot_data, comparisons, paired) {\n",
    "  # Apply Wilcoxon test to each comparison\n",
    "  stat_test <- do.call(rbind, lapply(comparisons, function(comp) {\n",
    "    test_result <- wilcox.test(\n",
    "\t\t\tdiversity ~ timepoint, \n",
    "\t\t\tdata = plot_data[plot_data$timepoint %in% comp,], \n",
    "\t\t\tpaired = paired\n",
    "\t\t)\n",
    "    data.frame(\n",
    "      .y. = \"diversity\",\n",
    "      group1 = comp[1],\n",
    "      group2 = comp[2],\n",
    "      p = test_result$p.value,\n",
    "      method = \"Wilcoxon\"\n",
    "    )\n",
    "  }))\n",
    "  \n",
    "  # Adjust p-values and add significance levels\n",
    "  stat_test$p.adj <- p.adjust(stat_test$p, method = \"BH\")\n",
    "  stat_test$p.adj.signif <- ifelse(\n",
    "\t\tstat_test$p.adj < 0.001, \"***\",\n",
    "\t\tifelse(\n",
    "\t\t\tstat_test$p.adj < 0.01, \"**\",\n",
    "\t\t\t\tifelse(stat_test$p.adj < 0.05, \"*\", \"ns\")\n",
    "\t\t)\n",
    "\t)\n",
    "  \n",
    "  return(stat_test)\n",
    "}\n",
    "\n",
    "# Create the plot\n",
    "create_diversity_plot <- function(plot_data, stat_test, index) {\n",
    "\n",
    "  options(repr.plot.width=20, repr.plot.height=10)\n",
    "  # Calculate y-positions for p-value annotations\n",
    "  max_value <- max(plot_data$diversity)\n",
    "  y_positions <- seq(1.05, 1.05 + (0.05 * (nrow(stat_test) - 1)), by = 0.05) * max_value\n",
    "\n",
    "  # Create color palette\n",
    "  n_timepoints <- length(unique(plot_data$timepoint))\n",
    "  color_palette <- viridis::viridis(n_timepoints)\n",
    "\n",
    "  # Filter stat_test to only include significant results\n",
    "  sig_stat_test <- stat_test[stat_test$p.adj < 0.05,]\n",
    "\n",
    "  # Recalculate y-positions for only significant comparisons\n",
    "  if(nrow(sig_stat_test) > 0) {\n",
    "    y_positions <- seq(1.05, 1.05 + (0.05 * (nrow(sig_stat_test) - 1)), by = 0.05) * max_value\n",
    "  }\n",
    "\n",
    "  # Create the plot\n",
    "  p <- ggplot(plot_data, aes(x = timepoint, y = diversity)) +\n",
    "    geom_boxplot(aes(fill = timepoint), alpha = 0.7, outlier.shape = NA, color = \"black\") +    \n",
    "    geom_jitter(aes(color = timepoint), width = 0.2, alpha = 0.5) +\n",
    "    scale_fill_viridis(discrete = TRUE, option = \"H\") +\n",
    "    scale_color_viridis(discrete = TRUE, option = \"H\") +\n",
    "    theme_classic() +\n",
    "    labs(x = \"Timepoint\", y = paste(index, \"Diversity Index\")) +\n",
    "    theme(legend.position = \"none\",\n",
    "          axis.text = element_text(size = 20),    \n",
    "          axis.title = element_text(size = 25),\n",
    "          plot.title = element_text(margin = margin(b = 50)))\n",
    "\n",
    "  # Only add significance lines if there are significant results\n",
    "  if(nrow(sig_stat_test) > 0) {\n",
    "    p <- p + stat_pvalue_manual(\n",
    "\t\t\tsig_stat_test, \n",
    "\t\t\ty.position = y_positions,\n",
    "\t\t\tstep.increase = 0.05,\n",
    "\t\t\tlabel = \"p.adj.signif\"\n",
    "\t\t)\n",
    "  }\n",
    "\n",
    "  return(p)\n",
    "}\n",
    "\n",
    "# Main function to plot diversity\n",
    "plot_diversity <- function(phyloseq, comparisons, paired, index, title) {\n",
    "  # Prepare data\n",
    "  plot_data <- prepare_plot_data(phyloseq, comparisons, index)\n",
    "  \n",
    "  # Perform statistical tests\n",
    "  stat_test <- perform_statistical_tests(plot_data, comparisons, paired)\n",
    "  \n",
    "  # Create the plot\n",
    "  p <- create_diversity_plot(plot_data, stat_test, index)\n",
    "  \n",
    "  # Add overall title with adjusted position\n",
    "  titled_plot <- cowplot::ggdraw(ylim = c(0, 1.05)) + \n",
    "    cowplot::draw_plot(p, y = 0, height = 0.95) + \n",
    "    cowplot::draw_label(title, fontface = \"bold\", size = 24, x = 0.5, y = 1)\n",
    "  \n",
    "  # Display the plot\n",
    "  print(titled_plot)\n",
    "  \n",
    "  # Print statistical test results\n",
    "  cat(\"Diversity Statistical Test:\\n\")\n",
    "  print(stat_test)\n",
    "  \n",
    "  return(titled_plot)\n",
    "}"
   ]
  },
  {
   "cell_type": "markdown",
   "metadata": {},
   "source": [
    "## All four timepoints"
   ]
  },
  {
   "cell_type": "markdown",
   "metadata": {},
   "source": [
    "### Nasal passage microbiota"
   ]
  },
  {
   "cell_type": "code",
   "execution_count": null,
   "metadata": {
    "vscode": {
     "languageId": "r"
    }
   },
   "outputs": [],
   "source": [
    "comparisons1 <- list(\n",
    "\tc(\"0\", \"28\"),\n",
    "\tc(\"0\", \"90\"),\n",
    "\tc(\"0\", \"180\"),\n",
    "\tc(\"28\", \"90\"),\n",
    "\tc(\"28\", \"180\"),\n",
    "\tc(\"90\", \"180\")\n",
    ")"
   ]
  },
  {
   "cell_type": "code",
   "execution_count": null,
   "metadata": {
    "vscode": {
     "languageId": "r"
    }
   },
   "outputs": [],
   "source": [
    "# subset phyloseq \n",
    "nasal_phylo_dupilumab <- subset_samples(nasal_phylo_rarefied, treatment == \"Dupilumab_treatment\")\n",
    "\n",
    "#transform phyloseq into a df\n",
    "nasal_phylo_dupilumab_df <- psmelt(nasal_phylo_dupilumab)\n",
    "\n",
    "# Find the samples that are present at all timepoints\n",
    "nasal_samples_at_all_timepoints <- nasal_phylo_dupilumab_df %>%\n",
    "  group_by(patient) %>%\n",
    "  filter(length(unique(timepoint)) == 4) %>%\n",
    "  .$patient %>%\n",
    "  unique()\n",
    "\n",
    "# subset phyloseq to keep only those patients measured in all four timepoints\n",
    "nasal_phylo_dupilumab_filtered_all <- subset_samples(nasal_phylo_dupilumab, patient %in% nasal_samples_at_all_timepoints)"
   ]
  },
  {
   "cell_type": "code",
   "execution_count": null,
   "metadata": {
    "vscode": {
     "languageId": "r"
    }
   },
   "outputs": [],
   "source": [
    "nasal_shannon_plot <- plot_diversity(\n",
    "\tnasal_phylo_dupilumab_filtered_all, \n",
    "\tcomparisons = comparisons1,\n",
    "\tpaired = TRUE,\n",
    "\tindex = \"Shannon\",\n",
    "\ttitle = \"Nasal passage microbiota (Shannon)\"\n",
    ")"
   ]
  },
  {
   "cell_type": "code",
   "execution_count": null,
   "metadata": {
    "vscode": {
     "languageId": "r"
    }
   },
   "outputs": [],
   "source": [
    "# For Chao1 diversity\n",
    "nasal_chao1_plot <- plot_diversity(\n",
    "\tnasal_phylo_dupilumab_filtered_all, \n",
    "\tcomparisons = comparisons1,\n",
    "\tpaired = TRUE,\n",
    "\tindex = \"Chao1\",\n",
    "\ttitle = \"Nasal passage microbiota (Chao1)\"\n",
    ")"
   ]
  },
  {
   "cell_type": "markdown",
   "metadata": {},
   "source": [
    "### Gut microbiota"
   ]
  },
  {
   "cell_type": "code",
   "execution_count": null,
   "metadata": {
    "vscode": {
     "languageId": "r"
    }
   },
   "outputs": [],
   "source": [
    "# subset phyloseq \n",
    "gut_phylo_dupilumab <- subset_samples(gut_phylo_rarefied, treatment == \"Dupilumab_treatment\")\n",
    "\n",
    "#transform phyloseq into a df\n",
    "gut_phylo_dupilumab_df <- psmelt(gut_phylo_dupilumab)\n",
    "\n",
    "# Find the samples that are present at all timepoints\n",
    "gut_samples_at_all_timepoints <- gut_phylo_dupilumab_df %>%\n",
    "  group_by(patient) %>%\n",
    "  filter(length(unique(timepoint)) == 4) %>%\n",
    "  .$patient %>%\n",
    "  unique()\n",
    "\n",
    "# subset phyloseq to keep only those patients measured in all four timepoints\n",
    "gut_phylo_dupilumab_filtered_all <- subset_samples(gut_phylo_dupilumab, patient %in% gut_samples_at_all_timepoints)"
   ]
  },
  {
   "cell_type": "code",
   "execution_count": null,
   "metadata": {
    "vscode": {
     "languageId": "r"
    }
   },
   "outputs": [],
   "source": [
    "gut_shannon_plot <- plot_diversity(\n",
    "\tgut_phylo_dupilumab_filtered_all, \n",
    "\tcomparisons = comparisons1,\n",
    "\tpaired = TRUE,\n",
    "\tindex = \"Shannon\",\n",
    "\ttitle = \"Gut microbiota (Shannon)\"\n",
    ")"
   ]
  },
  {
   "cell_type": "code",
   "execution_count": null,
   "metadata": {
    "vscode": {
     "languageId": "r"
    }
   },
   "outputs": [],
   "source": [
    "# For Chao1 diversity\n",
    "gut_chao1_plot <- plot_diversity(\n",
    "\tgut_phylo_dupilumab_filtered_all, \n",
    "\tcomparisons = comparisons1,\n",
    "\tpaired = TRUE,\n",
    "\tindex = \"Chao1\",\n",
    "\ttitle = \"Gut microbiota (Chao1)\"\n",
    ")"
   ]
  },
  {
   "cell_type": "markdown",
   "metadata": {},
   "source": [
    "### Day 0 healthy control vs Dupilumab treatment"
   ]
  },
  {
   "cell_type": "code",
   "execution_count": null,
   "metadata": {
    "vscode": {
     "languageId": "r"
    }
   },
   "outputs": [],
   "source": [
    "comparisons3 <- list(\n",
    "    c(\"healthy day 0\", \"0\"), \n",
    "    c(\"healthy day 0\", \"28\"), \n",
    "    c(\"healthy day 0\", \"90\"),\n",
    "    c(\"healthy day 0\", \"180\")\n",
    ")"
   ]
  },
  {
   "cell_type": "markdown",
   "metadata": {},
   "source": [
    "#### Nasal passage samples"
   ]
  },
  {
   "cell_type": "code",
   "execution_count": null,
   "metadata": {
    "vscode": {
     "languageId": "r"
    }
   },
   "outputs": [],
   "source": [
    "# subset phyloseq object to keep only dupilumab treated samples and healthy day 0\n",
    "nasal_phylo_dupilumab <- subset_samples(nasal_phylo_rarefied, treatment == \"Dupilumab_treatment\")\n",
    "nasal_phylo_healthy <- subset_samples(nasal_phylo_rarefied, treatment == \"healthy_control\" & timepoint == \"0\")\n",
    "\n",
    "# Update sample data for healthy controls\n",
    "sample_data(nasal_phylo_healthy)$timepoint <- \"healthy day 0\"\n",
    "\n",
    "# Merge healthy controls with the existing dupilumab filtered data\n",
    "nasal_phylo_modified <- merge_phyloseq(nasal_phylo_dupilumab, nasal_phylo_healthy)\n",
    "\n",
    "# Update sample data for the merged phyloseq object\n",
    "sample_data(nasal_phylo_modified)$timepoint <- factor(\n",
    "  sample_data(nasal_phylo_modified)$timepoint,\n",
    "  levels = c(\"healthy day 0\", \"0\", \"28\", \"90\", \"180\")\n",
    ")"
   ]
  },
  {
   "cell_type": "code",
   "execution_count": null,
   "metadata": {
    "vscode": {
     "languageId": "r"
    }
   },
   "outputs": [],
   "source": [
    "nasal_healthy_shannon_plot <- plot_diversity(\n",
    "\tnasal_phylo_modified, \n",
    "\tcomparisons = comparisons3,\n",
    "\tpaired = FALSE,\n",
    "\tindex = \"Shannon\",\n",
    "\ttitle = \"Nasal passage microbiota (Shannon)\"\n",
    ")"
   ]
  },
  {
   "cell_type": "code",
   "execution_count": null,
   "metadata": {
    "vscode": {
     "languageId": "r"
    }
   },
   "outputs": [],
   "source": [
    "nasal_healthy_chao1_plot <- plot_diversity(\n",
    "\tnasal_phylo_modified, \n",
    "\tcomparisons = comparisons3,\n",
    "\tpaired = FALSE,\n",
    "\tindex = \"Chao1\",\n",
    "\ttitle = \"Nasal passage microbiota (Chao1)\"\n",
    ")"
   ]
  },
  {
   "cell_type": "markdown",
   "metadata": {},
   "source": [
    "#### Gut samples"
   ]
  },
  {
   "cell_type": "code",
   "execution_count": null,
   "metadata": {
    "vscode": {
     "languageId": "r"
    }
   },
   "outputs": [],
   "source": [
    "# subset phyloseq object to keep only dupilumab treated samples and healthy day 0\n",
    "gut_phylo_dupilumab <- subset_samples(gut_phylo_rarefied, treatment == \"Dupilumab_treatment\")\n",
    "gut_phylo_healthy <- subset_samples(gut_phylo_rarefied, treatment == \"healthy_control\" & timepoint == \"0\")\n",
    "\n",
    "# Update sample data for healthy controls\n",
    "sample_data(gut_phylo_healthy)$timepoint <- \"healthy day 0\"\n",
    "\n",
    "# Merge healthy controls with the existing dupilumab filtered data\n",
    "gut_phylo_modified <- merge_phyloseq(gut_phylo_dupilumab, gut_phylo_healthy)\n",
    "\n",
    "# Update sample data for the merged phyloseq object\n",
    "sample_data(gut_phylo_modified)$timepoint <- factor(\n",
    "  sample_data(gut_phylo_modified)$timepoint,\n",
    "  levels = c(\"healthy day 0\", \"0\", \"28\", \"90\", \"180\")\n",
    ")"
   ]
  },
  {
   "cell_type": "code",
   "execution_count": null,
   "metadata": {
    "vscode": {
     "languageId": "r"
    }
   },
   "outputs": [],
   "source": [
    "gut_healthy_shannon_plot <- plot_diversity(\n",
    "\tgut_phylo_modified, \n",
    "\tcomparisons = comparisons3,\n",
    "\tpaired = FALSE,\n",
    "\tindex = \"Shannon\",\n",
    "\ttitle = \"Gut passage microbiota (Shannon)\"\n",
    ")"
   ]
  },
  {
   "cell_type": "code",
   "execution_count": null,
   "metadata": {
    "vscode": {
     "languageId": "r"
    }
   },
   "outputs": [],
   "source": [
    "gut_healthy_chao1_plot <- plot_diversity(\n",
    "\tgut_phylo_modified, \n",
    "\tcomparisons = comparisons3,\n",
    "\tpaired = FALSE,\n",
    "\tindex = \"Chao1\",\n",
    "\ttitle = \"Gut passage microbiota (Chao1)\"\n",
    ")"
   ]
  },
  {
   "cell_type": "markdown",
   "metadata": {},
   "source": [
    "# Beta diversity"
   ]
  },
  {
   "cell_type": "markdown",
   "metadata": {},
   "source": [
    "## Functions"
   ]
  },
  {
   "cell_type": "code",
   "execution_count": null,
   "metadata": {
    "vscode": {
     "languageId": "r"
    }
   },
   "outputs": [],
   "source": [
    "perform_ordination <- function(phyloseq_object, group, distance_method = \"bray\", ordination_method = \"PCoA\", dimensions = 3, paired = FALSE, alpha = 0.05, seed = 123) {\n",
    "  # Set random seed for reproducibility\n",
    "  set.seed(seed)\n",
    "  \n",
    "  # Calculate the distance\n",
    "  dist <- phyloseq::distance(phyloseq_object, method = distance_method)\n",
    "  \n",
    "  # Perform ordination\n",
    "  ord <- ordinate(phyloseq_object, method = ordination_method, distance = distance_method, k = dimensions, trace = FALSE)\n",
    "  \n",
    "  # Extract the sample data from the phyloseq object\n",
    "  sample_data <- sample_data(phyloseq_object)\n",
    "  \n",
    "  # Convert your grouping variable to a factor\n",
    "  group_factor <- as.factor(sample_data[[group]])\n",
    "  \n",
    "  # Perform PERMANOVA based on paired argument\n",
    "  if (paired) {\n",
    "    # Set seed again before PERMANOVA\n",
    "    set.seed(seed)\n",
    "    # Perform pairwise PERMANOVA with BH correction\n",
    "    permanova <- RVAideMemoire::pairwise.perm.manova(dist, group_factor, p.method = \"BH\")\n",
    "  } else {\n",
    "    # Set seed again before PERMANOVA\n",
    "    set.seed(seed)\n",
    "    # Perform unpaired PERMANOVA\n",
    "    permanova <- vegan::adonis2(dist ~ group_factor, permutations = 999)\n",
    "    \n",
    "    # Check if the overall PERMANOVA is significant\n",
    "    if (permanova$`Pr(>F)`[1] <= alpha) {\n",
    "      # Perform pairwise comparisons\n",
    "      levels <- levels(group_factor)\n",
    "      n_levels <- length(levels)\n",
    "      \n",
    "      pairwise_results <- list()\n",
    "      p_values <- c()\n",
    "      \n",
    "      for (i in 1:(n_levels - 1)) {\n",
    "        for (j in (i + 1):n_levels) {\n",
    "          subset_data <- phyloseq::prune_samples(sample_data[[group]] %in% c(levels[i], levels[j]), phyloseq_object)\n",
    "          subset_dist <- phyloseq::distance(subset_data, method = distance_method)\n",
    "          subset_group <- as.factor(sample_data(subset_data)[[group]])\n",
    "          \n",
    "          # Set seed again before each pairwise comparison\n",
    "          set.seed(seed)\n",
    "          pairwise_permanova <- vegan::adonis2(subset_dist ~ subset_group, permutations = 999)\n",
    "          pairwise_results[[paste(levels[i], levels[j], sep = \" vs \")]] <- pairwise_permanova\n",
    "          p_values <- c(p_values, pairwise_permanova$`Pr(>F)`[1])\n",
    "        }\n",
    "      }\n",
    "      \n",
    "      # Adjust p-values using BH method\n",
    "      adjusted_p_values <- p.adjust(p_values, method = \"BH\")\n",
    "      \n",
    "      # Add adjusted p-values to the pairwise results\n",
    "      for (i in seq_along(pairwise_results)) {\n",
    "        pairwise_results[[i]]$`Adjusted Pr(>F)` <- adjusted_p_values[i]\n",
    "      }\n",
    "      \n",
    "      permanova$pairwise_results <- pairwise_results\n",
    "    } else {\n",
    "      message(\"Overall PERMANOVA not significant. Pairwise comparisons not performed.\")\n",
    "    }\n",
    "  }\n",
    "  \n",
    "  # For pairwise results\n",
    "  if (!is.null(permanova$pairwise_results)) {\n",
    "    for (i in names(permanova$pairwise_results)) {\n",
    "      cat(\"\\nPairwise comparison:\", i, \"\\n\")\n",
    "      print(permanova$pairwise_results[[i]], digits = 4, width = 1000)\n",
    "    }\n",
    "  } else {\n",
    "    print(permanova)\n",
    "  }\n",
    "\n",
    "  # Return a named list\n",
    "  return(list(ordination = ord, permanova = permanova))\n",
    "}"
   ]
  },
  {
   "cell_type": "code",
   "execution_count": null,
   "metadata": {
    "vscode": {
     "languageId": "r"
    }
   },
   "outputs": [],
   "source": [
    "plot_nmds <- function(phyloseq_object, nmds_results, group, title, axes = c(1, 2)){\n",
    "\tplot <- plot_ordination(physeq = phyloseq_object, ordination = nmds_results[[1]], axes = axes, color = group) +\n",
    "\t\tgeom_point(size = 4) +\n",
    "\t\t#ggrepel::geom_text_repel(aes(label = patient)) +\n",
    "\t\tggtitle(title) +\n",
    "\t\tstat_ellipse() +\n",
    "\t\tscale_color_viridis_d(option = \"H\") + \n",
    "\t\ttheme_classic() +\n",
    "\t\ttheme(\n",
    "\t\t\taxis.title = element_text(size = 24),  \n",
    "\t\t\taxis.text = element_text(size = 24),\n",
    "\t\t\tplot.title = element_text(size = 26)\n",
    "\n",
    "\t\t)\n",
    "\t\n",
    "\treturn(plot)\n",
    "}"
   ]
  },
  {
   "cell_type": "code",
   "execution_count": null,
   "metadata": {
    "vscode": {
     "languageId": "r"
    }
   },
   "outputs": [],
   "source": [
    "plot_multiple_nmds <- function(phyloseq_object, nmds_results, group, title){\n",
    "\n",
    "\toptions(repr.plot.width=40, repr.plot.height=10)\n",
    "\n",
    "\t#create a function to extract the legend\n",
    "\tget_legend <- function(my_plot){\n",
    "\t\ttmp <- ggplot_gtable(ggplot_build(my_plot))\n",
    "\t\tleg <- which(sapply(tmp$grobs, function(x) x$name) == \"guide-box\")\n",
    "\t\tlegend <- tmp$grobs[[leg]]\n",
    "\t\treturn(legend)\n",
    "\t}\n",
    "\n",
    "\t# Generate the three plots without legend\n",
    "\tplot1 <- plot_nmds(phyloseq_object, nmds_results, group, title, c(1, 2)) + theme(legend.position = \"none\")\n",
    "\tplot2 <- plot_nmds(phyloseq_object, nmds_results, group, title, c(2, 3)) + theme(legend.position = \"none\")\n",
    "\tplot3 <- plot_nmds(phyloseq_object, nmds_results, group, title, c(1, 3)) + theme(legend.position = \"none\")\n",
    "\n",
    "\t# Generate a separate legend\n",
    "\tlegend <- get_legend(plot_nmds(phyloseq_object, nmds_results, group, title, c(1, 2)) + \n",
    "\t\ttheme(\n",
    "\t\t\tlegend.title = element_text(size = 20),\n",
    "\t\t\tlegend.text = element_text(size = 20),\n",
    "\t\t\tlegend.key.size = unit(2, \"cm\")\n",
    "\t\t)\n",
    "\t)\n",
    "\n",
    "\t# Combine the plots into a single ggplot object\n",
    "\tcombined_plot <- ggpubr::ggarrange(\n",
    "\t\tplot1,\n",
    "\t\tplot2,\n",
    "\t\tplot3,\n",
    "\t\tlegend,\n",
    "\t\tncol = 4, widths = c(1.5, 1.5, 1.5, 0.5)\n",
    "\t)\n",
    "\n",
    "\t# Add a common title\n",
    "\n",
    "\treturn(combined_plot)\n",
    "}\n"
   ]
  },
  {
   "cell_type": "markdown",
   "metadata": {},
   "source": [
    "## Comaprison of healthy at day 0 to Dupilumab treatment"
   ]
  },
  {
   "cell_type": "markdown",
   "metadata": {},
   "source": [
    "### Nasal passage samples"
   ]
  },
  {
   "cell_type": "code",
   "execution_count": null,
   "metadata": {
    "vscode": {
     "languageId": "r"
    }
   },
   "outputs": [],
   "source": [
    "# subset phyloseq object to keep only dupilumab treated samples and healthy day 0\n",
    "nasal_phylo_dupilumab <- subset_samples(nasal_phylo_rarefied, treatment == \"Dupilumab_treatment\")\n",
    "nasal_phylo_healthy <- subset_samples(nasal_phylo_rarefied, treatment == \"healthy_control\" & timepoint == \"0\")\n",
    "\n",
    "# Update sample data for healthy controls\n",
    "sample_data(nasal_phylo_healthy)$timepoint <- \"healthy day 0\"\n",
    "\n",
    "# Merge healthy controls with the existing dupilumab filtered data\n",
    "nasal_phylo_modified <- merge_phyloseq(nasal_phylo_dupilumab, nasal_phylo_healthy)\n",
    "\n",
    "# Update sample data for the merged phyloseq object\n",
    "sample_data(nasal_phylo_modified)$timepoint <- factor(\n",
    "  sample_data(nasal_phylo_modified)$timepoint,\n",
    "  levels = c(\"healthy day 0\", \"0\", \"28\", \"90\", \"180\")\n",
    ")"
   ]
  },
  {
   "cell_type": "markdown",
   "metadata": {},
   "source": [
    "#### NMDS"
   ]
  },
  {
   "cell_type": "code",
   "execution_count": null,
   "metadata": {
    "vscode": {
     "languageId": "r"
    }
   },
   "outputs": [],
   "source": [
    "nasal_dupilumab_healthy_nmds <- perform_ordination(\n",
    "\tnasal_phylo_modified,\n",
    "\t\"timepoint\",\n",
    "\t\"bray\",\n",
    "\t\"NMDS\",\n",
    "\tdimensions = 3,\n",
    "\tpaired = TRUE\n",
    ")\n",
    "\n",
    "nasal_dupilumab_healthy_nmds_plot <- plot_multiple_nmds(\n",
    "\tnasal_phylo_modified,\n",
    "\tnasal_dupilumab_healthy_nmds,\n",
    "\t\"timepoint\",\n",
    "\t\"NMDS of nasal microbiota\"\n",
    ")\n",
    "\n",
    "print(paste(\"Stress value: \", nasal_dupilumab_healthy_nmds[[1]]$stress))\n",
    "nasal_dupilumab_healthy_nmds_plot"
   ]
  },
  {
   "cell_type": "markdown",
   "metadata": {},
   "source": [
    "### Gut sampels"
   ]
  },
  {
   "cell_type": "code",
   "execution_count": null,
   "metadata": {
    "vscode": {
     "languageId": "r"
    }
   },
   "outputs": [],
   "source": [
    "# subset phyloseq object to keep only dupilumab treated samples and healthy day 0\n",
    "gut_phylo_dupilumab <- subset_samples(gut_phylo_rarefied, treatment == \"Dupilumab_treatment\")\n",
    "gut_phylo_healthy <- subset_samples(gut_phylo_rarefied, treatment == \"healthy_control\" & timepoint == \"0\")\n",
    "\n",
    "# Update sample data for healthy controls\n",
    "sample_data(gut_phylo_healthy)$timepoint <- \"healthy day 0\"\n",
    "\n",
    "# Merge healthy controls with the existing dupilumab filtered data\n",
    "gut_phylo_modified <- merge_phyloseq(gut_phylo_dupilumab, gut_phylo_healthy)\n",
    "\n",
    "# Update sample data for the merged phyloseq object\n",
    "sample_data(gut_phylo_modified)$timepoint <- factor(\n",
    "  sample_data(gut_phylo_modified)$timepoint,\n",
    "  levels = c(\"healthy day 0\", \"0\", \"28\", \"90\", \"180\")\n",
    ")"
   ]
  },
  {
   "cell_type": "markdown",
   "metadata": {},
   "source": [
    "#### NMDS"
   ]
  },
  {
   "cell_type": "code",
   "execution_count": null,
   "metadata": {
    "vscode": {
     "languageId": "r"
    }
   },
   "outputs": [],
   "source": [
    "gut_dupilumab_healthy_nmds <- perform_ordination(\n",
    "\tgut_phylo_modified,\n",
    "\t\"timepoint\",\n",
    "\t\"bray\",\n",
    "\t\"NMDS\",\n",
    "\tdimensions = 3,\n",
    "\tpaired = TRUE\n",
    ")\n",
    "\n",
    "gut_dupilumab_healthy_nmds_plot <- plot_multiple_nmds(\n",
    "\tgut_phylo_modified,\n",
    "\tgut_dupilumab_healthy_nmds,\n",
    "\t\"timepoint\",\n",
    "\t\"NMDS of gut microbiota\"\n",
    ")\n",
    "\n",
    "gut_dupilumab_healthy_nmds_plot\n",
    "print(paste(\"Stress value: \", gut_dupilumab_healthy_nmds[[1]]$stress))"
   ]
  },
  {
   "cell_type": "markdown",
   "metadata": {},
   "source": [
    "# Saving plots"
   ]
  },
  {
   "cell_type": "code",
   "execution_count": null,
   "metadata": {
    "vscode": {
     "languageId": "r"
    }
   },
   "outputs": [],
   "source": [
    "# Specify the path where you want to save the plots\n",
    "save_path <- \"../../results/Microbiome_analysis/plots/shannon\"\n",
    "\n",
    "# Create the directory if it doesn't exist\n",
    "if (!dir.exists(save_path)) {\n",
    "  dir.create(save_path, recursive = TRUE)\n",
    "}\n",
    "\n",
    "# Set plot dimensions and DPI\n",
    "plot_width <- 10\n",
    "plot_height <- 10\n",
    "plot_dpi <- 300\n",
    "\n",
    "# Get all variables ending with \"_plot\"\n",
    "plot_vars <- ls(pattern = \"shannon_plot$\")\n",
    "\n",
    "# Function to save a plot as both PNG and PDF\n",
    "save_plots <- function(plot_name) {\n",
    "  plot_obj <- get(plot_name)\n",
    "  \n",
    "  # Save as PNG\n",
    "  png_filename <- file.path(save_path, paste0(plot_name, \".png\"))\n",
    "  pdf_filename <- file.path(save_path, paste0(plot_name, \".pdf\"))\n",
    "  \n",
    "  # Check if it's a ggplot object\n",
    "  if (inherits(plot_obj, \"ggplot\")) {\n",
    "    ggsave(png_filename, plot = plot_obj, width = plot_width, height = plot_height, dpi = plot_dpi, units = \"in\")\n",
    "    ggsave(pdf_filename, plot = plot_obj, width = plot_width, height = plot_height, units = \"in\")\n",
    "  } else {\n",
    "    # Assume it's a base R plot\n",
    "    png(png_filename, width = plot_width, height = plot_height, units = \"in\", res = plot_dpi)\n",
    "    print(plot_obj)\n",
    "    dev.off()\n",
    "    \n",
    "    pdf(pdf_filename, width = plot_width, height = plot_height)\n",
    "    print(plot_obj)\n",
    "    dev.off()\n",
    "  }\n",
    "  \n",
    "  cat(\"Saved:\", png_filename, \"\\n\")\n",
    "  cat(\"Saved:\", pdf_filename, \"\\n\")\n",
    "}\n",
    "\n",
    "# Save each plot\n",
    "invisible(sapply(plot_vars, save_plots))\n",
    "\n",
    "cat(\"Saved\", length(plot_vars), \"plots (both PNG and PDF) in\", save_path, \"\\n\")\n",
    "cat(\"Plot dimensions:\", plot_width, \"x\", plot_height, \"inches, DPI:\", plot_dpi, \"\\n\")"
   ]
  },
  {
   "cell_type": "code",
   "execution_count": null,
   "metadata": {
    "vscode": {
     "languageId": "r"
    }
   },
   "outputs": [],
   "source": [
    "# Specify the path where you want to save the plots\n",
    "save_path <- \"../../results/Microbiome_analysis/plots/chao1\"\n",
    "\n",
    "# Create the directory if it doesn't exist\n",
    "if (!dir.exists(save_path)) {\n",
    "  dir.create(save_path, recursive = TRUE)\n",
    "}\n",
    "\n",
    "# Set plot dimensions and DPI\n",
    "plot_width <- 10\n",
    "plot_height <- 10\n",
    "plot_dpi <- 300\n",
    "\n",
    "# Get all variables ending with \"_plot\"\n",
    "plot_vars <- ls(pattern = \"chao1_plot$\")\n",
    "\n",
    "# Function to save a plot as both PNG and PDF\n",
    "save_plots <- function(plot_name) {\n",
    "  plot_obj <- get(plot_name)\n",
    "  \n",
    "  # Save as PNG\n",
    "  png_filename <- file.path(save_path, paste0(plot_name, \".png\"))\n",
    "  pdf_filename <- file.path(save_path, paste0(plot_name, \".pdf\"))\n",
    "  \n",
    "  # Check if it's a ggplot object\n",
    "  if (inherits(plot_obj, \"ggplot\")) {\n",
    "    ggsave(png_filename, plot = plot_obj, width = plot_width, height = plot_height, dpi = plot_dpi, units = \"in\")\n",
    "    ggsave(pdf_filename, plot = plot_obj, width = plot_width, height = plot_height, units = \"in\")\n",
    "  } else {\n",
    "    # Assume it's a base R plot\n",
    "    png(png_filename, width = plot_width, height = plot_height, units = \"in\", res = plot_dpi)\n",
    "    print(plot_obj)\n",
    "    dev.off()\n",
    "    \n",
    "    pdf(pdf_filename, width = plot_width, height = plot_height)\n",
    "    print(plot_obj)\n",
    "    dev.off()\n",
    "  }\n",
    "  \n",
    "  cat(\"Saved:\", png_filename, \"\\n\")\n",
    "  cat(\"Saved:\", pdf_filename, \"\\n\")\n",
    "}\n",
    "\n",
    "# Save each plot\n",
    "invisible(sapply(plot_vars, save_plots))\n",
    "\n",
    "cat(\"Saved\", length(plot_vars), \"plots (both PNG and PDF) in\", save_path, \"\\n\")\n",
    "cat(\"Plot dimensions:\", plot_width, \"x\", plot_height, \"inches, DPI:\", plot_dpi, \"\\n\")"
   ]
  },
  {
   "cell_type": "code",
   "execution_count": null,
   "metadata": {
    "vscode": {
     "languageId": "r"
    }
   },
   "outputs": [],
   "source": [
    "# Specify the path where you want to save the plots\n",
    "save_path <- \"../../results/Microbiome_analysis/plots/pcoa\"\n",
    "\n",
    "# Create the directory if it doesn't exist\n",
    "if (!dir.exists(save_path)) {\n",
    "  dir.create(save_path, recursive = TRUE)\n",
    "}\n",
    "\n",
    "# Set plot dimensions and DPI\n",
    "plot_width <- 40\n",
    "plot_height <- 10\n",
    "plot_dpi <- 300\n",
    "\n",
    "# Get all variables ending with \"_plot\"\n",
    "plot_vars <- ls(pattern = \"pcoa_plot$\")\n",
    "\n",
    "# Function to save a plot as both PNG and PDF\n",
    "save_plots <- function(plot_name) {\n",
    "  plot_obj <- get(plot_name)\n",
    "  \n",
    "  # Save as PNG\n",
    "  png_filename <- file.path(save_path, paste0(plot_name, \".png\"))\n",
    "  pdf_filename <- file.path(save_path, paste0(plot_name, \".pdf\"))\n",
    "  \n",
    "  # Check if it's a ggplot object\n",
    "  if (inherits(plot_obj, \"ggplot\")) {\n",
    "    ggsave(png_filename, plot = plot_obj, width = plot_width, height = plot_height, dpi = plot_dpi, units = \"in\")\n",
    "    ggsave(pdf_filename, plot = plot_obj, width = plot_width, height = plot_height, units = \"in\")\n",
    "  } else {\n",
    "    # Assume it's a base R plot\n",
    "    png(png_filename, width = plot_width, height = plot_height, units = \"in\", res = plot_dpi)\n",
    "    print(plot_obj)\n",
    "    dev.off()\n",
    "    \n",
    "    pdf(pdf_filename, width = plot_width, height = plot_height)\n",
    "    print(plot_obj)\n",
    "    dev.off()\n",
    "  }\n",
    "  \n",
    "  cat(\"Saved:\", png_filename, \"\\n\")\n",
    "  cat(\"Saved:\", pdf_filename, \"\\n\")\n",
    "}\n",
    "\n",
    "# Save each plot\n",
    "invisible(sapply(plot_vars, save_plots))\n",
    "\n",
    "cat(\"Saved\", length(plot_vars), \"plots (both PNG and PDF) in\", save_path, \"\\n\")\n",
    "cat(\"Plot dimensions:\", plot_width, \"x\", plot_height, \"inches, DPI:\", plot_dpi, \"\\n\")"
   ]
  },
  {
   "cell_type": "code",
   "execution_count": null,
   "metadata": {
    "vscode": {
     "languageId": "r"
    }
   },
   "outputs": [],
   "source": [
    "# Specify the path where you want to save the plots\n",
    "save_path <- \"../../results/Microbiome_analysis/plots/nmds\"\n",
    "\n",
    "# Create the directory if it doesn't exist\n",
    "if (!dir.exists(save_path)) {\n",
    "  dir.create(save_path, recursive = TRUE)\n",
    "}\n",
    "\n",
    "# Set plot dimensions and DPI\n",
    "plot_width <- 40\n",
    "plot_height <- 10\n",
    "plot_dpi <- 300\n",
    "\n",
    "# Get all variables ending with \"_plot\"\n",
    "plot_vars <- ls(pattern = \"nmds_plot$\")\n",
    "\n",
    "# Function to save a plot as both PNG and PDF\n",
    "save_plots <- function(plot_name) {\n",
    "  plot_obj <- get(plot_name)\n",
    "  \n",
    "  # Save as PNG\n",
    "  png_filename <- file.path(save_path, paste0(plot_name, \".png\"))\n",
    "  pdf_filename <- file.path(save_path, paste0(plot_name, \".pdf\"))\n",
    "  \n",
    "  # Check if it's a ggplot object\n",
    "  if (inherits(plot_obj, \"ggplot\")) {\n",
    "    ggsave(png_filename, plot = plot_obj, width = plot_width, height = plot_height, dpi = plot_dpi, units = \"in\")\n",
    "    ggsave(pdf_filename, plot = plot_obj, width = plot_width, height = plot_height, units = \"in\")\n",
    "  } else {\n",
    "    # Assume it's a base R plot\n",
    "    png(png_filename, width = plot_width, height = plot_height, units = \"in\", res = plot_dpi)\n",
    "    print(plot_obj)\n",
    "    dev.off()\n",
    "    \n",
    "    pdf(pdf_filename, width = plot_width, height = plot_height)\n",
    "    print(plot_obj)\n",
    "    dev.off()\n",
    "  }\n",
    "  \n",
    "  cat(\"Saved:\", png_filename, \"\\n\")\n",
    "  cat(\"Saved:\", pdf_filename, \"\\n\")\n",
    "}\n",
    "\n",
    "# Save each plot\n",
    "invisible(sapply(plot_vars, save_plots))\n",
    "\n",
    "cat(\"Saved\", length(plot_vars), \"plots (both PNG and PDF) in\", save_path, \"\\n\")\n",
    "cat(\"Plot dimensions:\", plot_width, \"x\", plot_height, \"inches, DPI:\", plot_dpi, \"\\n\")"
   ]
  },
  {
   "cell_type": "code",
   "execution_count": null,
   "metadata": {
    "vscode": {
     "languageId": "r"
    }
   },
   "outputs": [],
   "source": []
  }
 ],
 "metadata": {
  "kernelspec": {
   "display_name": "R",
   "language": "R",
   "name": "ir"
  },
  "language_info": {
   "codemirror_mode": "r",
   "file_extension": ".r",
   "mimetype": "text/x-r-source",
   "name": "R",
   "pygments_lexer": "r",
   "version": "4.3.2"
  }
 },
 "nbformat": 4,
 "nbformat_minor": 2
}
