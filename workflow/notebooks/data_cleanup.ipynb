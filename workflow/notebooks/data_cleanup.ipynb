{
 "cells": [
  {
   "cell_type": "markdown",
   "metadata": {},
   "source": [
    "# Load libraries"
   ]
  },
  {
   "cell_type": "code",
   "execution_count": null,
   "metadata": {
    "vscode": {
     "languageId": "r"
    }
   },
   "outputs": [],
   "source": [
    "library(tidyverse)\n",
    "library(phyloseq)\n",
    "library(decontam)\n",
    "library(gridExtra)\n",
    "library(ggrepel) \n",
    "library(cowplot)\n",
    "library(vegan)"
   ]
  },
  {
   "cell_type": "code",
   "execution_count": null,
   "metadata": {
    "vscode": {
     "languageId": "r"
    }
   },
   "outputs": [],
   "source": [
    "options(repr.plot.width=20, repr.plot.height=15)"
   ]
  },
  {
   "cell_type": "markdown",
   "metadata": {},
   "source": [
    "# Functions"
   ]
  },
  {
   "cell_type": "code",
   "execution_count": null,
   "metadata": {
    "vscode": {
     "languageId": "r"
    }
   },
   "outputs": [],
   "source": [
    "relevel_metadata <- function(phyloseq) {\n",
    "    metadata <- sample_data(phyloseq)\n",
    "    metadata_new <- metadata %>%\n",
    "        data.frame(.) %>%\n",
    "        mutate(\n",
    "        timepoint = factor(timepoint, levels = c(0, 28, 90, 180)),\n",
    "        treatment = relevel(factor(treatment), ref = \"healthy_control\")\n",
    "        )\n",
    "\n",
    "    sample_data(phyloseq) <- metadata_new\n",
    "    return(phyloseq)\n",
    "}"
   ]
  },
  {
   "cell_type": "code",
   "execution_count": null,
   "metadata": {
    "vscode": {
     "languageId": "r"
    }
   },
   "outputs": [],
   "source": [
    "remove_contaminants <- function(phyloseq, negative_controls) {\n",
    "    sample_data(phyloseq)$is_control <- sample_data(phyloseq)$treatment == negative_controls\n",
    "    contamdf <- isContaminant(phyloseq, method=\"prevalence\", neg=\"is_control\")\n",
    "    phyloseq_clean <- prune_taxa(!contamdf$contaminant, phyloseq)\n",
    "    \n",
    "    return(phyloseq_clean)\n",
    "}"
   ]
  },
  {
   "cell_type": "code",
   "execution_count": null,
   "metadata": {
    "vscode": {
     "languageId": "r"
    }
   },
   "outputs": [],
   "source": [
    "validate_positive_controls <- function(phyloseq_obj, positive_group) {\n",
    "  # Subset positive control samples\n",
    "  positive_controls <- prune_samples(sample_data(phyloseq_obj)$treatment == positive_group, phyloseq_obj)\n",
    "  \n",
    "  # Aggregate taxa at Genus level\n",
    "  taxa_with_abundance <- tax_glom(positive_controls, taxrank = \"Genus\")\n",
    "  taxa_abundances <- psmelt(taxa_with_abundance)\n",
    "  \n",
    "  # Get top 10 genera by total abundance\n",
    "  top_taxa <- taxa_abundances %>%\n",
    "    group_by(Genus) %>%\n",
    "    summarise(TotalAbundance = sum(Abundance)) %>%\n",
    "    arrange(desc(TotalAbundance)) %>%\n",
    "    top_n(10) %>%\n",
    "    pull(Genus)\n",
    "  \n",
    "  # Filter abundances for top 10 genera and reshape data\n",
    "  abundances_per_sample <- taxa_abundances %>%\n",
    "    filter(Genus %in% top_taxa) %>%\n",
    "    select(Sample, Genus, Abundance) %>%\n",
    "    pivot_wider(names_from = Genus, values_from = Abundance, values_fill = 0)\n",
    "  \n",
    "  # Return the abundances per sample\n",
    "  return(abundances_per_sample)\n",
    "}\n"
   ]
  },
  {
   "cell_type": "code",
   "execution_count": null,
   "metadata": {
    "vscode": {
     "languageId": "r"
    }
   },
   "outputs": [],
   "source": [
    "remove_outliers <- function(phyloseq, outliers) {\n",
    "    # Remove the specified outliers\n",
    "    phyloseq_filtered <- prune_samples(!(sample_names(phyloseq) %in% outliers), phyloseq)\n",
    "    \n",
    "    # Prune any taxa that now have zero counts\n",
    "    phyloseq_filtered <- prune_taxa(taxa_sums(phyloseq_filtered) > 0, phyloseq_filtered)\n",
    "    \n",
    "    return(phyloseq_filtered)\n",
    "}\n"
   ]
  },
  {
   "cell_type": "code",
   "execution_count": null,
   "metadata": {
    "vscode": {
     "languageId": "r"
    }
   },
   "outputs": [],
   "source": [
    "clean_phyloseq <- function(phyloseq) {\n",
    "    # Removes technical controls\n",
    "    phyloseq <- subset_samples(phyloseq, treatment %in% c(\"Dupilumab_treatment\", \"CRS_control\", \"healthy_control\"))\n",
    "    \n",
    "    # Converts sample data to a data frame, removes unnecessary columns, and updates the phyloseq object\n",
    "    sample_data_df <- as(sample_data(phyloseq), \"data.frame\")\n",
    "    sample_data_df <- sample_data_df %>%\n",
    "        select(-is_control)\n",
    "    sample_data(phyloseq) <- sample_data(sample_data_df)\n",
    "    \n",
    "    return(phyloseq)\n",
    "}"
   ]
  },
  {
   "cell_type": "code",
   "execution_count": null,
   "metadata": {
    "vscode": {
     "languageId": "r"
    }
   },
   "outputs": [],
   "source": [
    "plot_rarecurve <- function(phylsoeq_object) {\n",
    "    # Convert to matrix, ensure numeric, and remove any problematic values\n",
    "    otu_mat <- as.matrix(otu_table(phylsoeq_object))\n",
    "    otu_mat <- matrix(as.numeric(otu_mat), nrow=nrow(otu_mat))\n",
    "    # Remove any rows with zero sums\n",
    "    otu_mat <- otu_mat[rowSums(otu_mat) > 0, ]\n",
    "    # Create rarefaction curves\n",
    "    rarecurve(otu_mat, step=50, cex=0.5, xlim=c(0,500000))\n",
    "\n",
    "}"
   ]
  },
  {
   "cell_type": "code",
   "execution_count": null,
   "metadata": {
    "vscode": {
     "languageId": "r"
    }
   },
   "outputs": [],
   "source": [
    "rarefy_phyloseq_multiple <- function(physeq_obj, n_iterations = 100, sample_size = NULL, rngseed = 42, replace = FALSE, trimOTUs = TRUE, verbose = FALSE) {\n",
    "  if (is.null(sample_size)) {\n",
    "    sample_size <- min(sample_sums(physeq_obj))\n",
    "  }\n",
    "  \n",
    "  set.seed(rngseed)  # Set initial seed\n",
    "  seeds <- sample.int(1e6, n_iterations)  # Generate different seeds\n",
    "  \n",
    "  rarefied_list <- lapply(seeds, function(seed) {\n",
    "    rarefy_even_depth(physeq = physeq_obj,\n",
    "                     sample.size = sample_size,\n",
    "                     rngseed = seed,\n",
    "                     replace = replace,\n",
    "                     trimOTUs = FALSE,\n",
    "                     verbose = verbose)\n",
    "  })  # removed simplify = FALSE as it's not needed in lapply\n",
    "  \n",
    "  # Merge the rarefied OTU tables\n",
    "  merged_otu <- Reduce('+', lapply(rarefied_list, function(x) otu_table(x)))\n",
    "  \n",
    "  # Average and round the merged OTU table\n",
    "  avg_otu <- round(merged_otu / n_iterations)\n",
    "  \n",
    "  # Create a new phyloseq object with the averaged OTU table\n",
    "  avg_physeq <- phyloseq(otu_table(avg_otu, taxa_are_rows = taxa_are_rows(physeq_obj)),\n",
    "                        sample_data(physeq_obj),\n",
    "                        tax_table(physeq_obj),\n",
    "                        refseq(physeq_obj))\n",
    "  \n",
    "  # Optionally trim OTUs\n",
    "  if (trimOTUs) {\n",
    "    avg_physeq <- prune_taxa(taxa_sums(avg_physeq) > 0, avg_physeq)\n",
    "  }\n",
    "  \n",
    "  return(avg_physeq)\n",
    "}"
   ]
  },
  {
   "cell_type": "code",
   "execution_count": null,
   "metadata": {
    "vscode": {
     "languageId": "r"
    }
   },
   "outputs": [],
   "source": [
    "remove_low_depth_samples <- function(physeq, min_depth) {\n",
    "  # Calculate sequencing depth for each sample\n",
    "  sample_depth <- sample_sums(physeq)\n",
    "  \n",
    "  # Identify samples to keep (those with depth >= min_depth)\n",
    "  samples_to_keep <- names(sample_depth[sample_depth >= min_depth])\n",
    "  \n",
    "  # Subset the phyloseq object to keep only those samples\n",
    "  physeq_filtered <- prune_samples(samples_to_keep, physeq)\n",
    "  \n",
    "  # Print some information about the filtering\n",
    "  cat(\"Original number of samples:\", nsamples(physeq), \"\\n\")\n",
    "  cat(\"Number of samples after filtering:\", nsamples(physeq_filtered), \"\\n\")\n",
    "  cat(\"Number of samples removed:\", nsamples(physeq) - nsamples(physeq_filtered), \"\\n\")\n",
    "  \n",
    "  return(physeq_filtered)\n",
    "}"
   ]
  },
  {
   "cell_type": "markdown",
   "metadata": {},
   "source": [
    "# Nasal samples"
   ]
  },
  {
   "cell_type": "markdown",
   "metadata": {},
   "source": [
    "## Data cleanup"
   ]
  },
  {
   "cell_type": "code",
   "execution_count": null,
   "metadata": {
    "vscode": {
     "languageId": "r"
    }
   },
   "outputs": [],
   "source": [
    "nasal_samples <- readRDS(\"../../results/Bacteria_BK628-01/Dada2/04_phyloseq/Bacteria_BK628-01_phyloseq.rds\")\n",
    "nasal_samples"
   ]
  },
  {
   "cell_type": "code",
   "execution_count": null,
   "metadata": {
    "vscode": {
     "languageId": "r"
    }
   },
   "outputs": [],
   "source": [
    "nasal_samples %>%\n",
    "\tsample_data() %>%\n",
    "\tdata.frame() %>%\n",
    "\tgroup_by(treatment, timepoint) %>%\n",
    "\tcount()"
   ]
  },
  {
   "cell_type": "code",
   "execution_count": null,
   "metadata": {
    "vscode": {
     "languageId": "r"
    }
   },
   "outputs": [],
   "source": [
    "nasal_samples <- relevel_metadata(nasal_samples)\n",
    "nasal_samples"
   ]
  },
  {
   "cell_type": "code",
   "execution_count": null,
   "metadata": {
    "vscode": {
     "languageId": "r"
    }
   },
   "outputs": [],
   "source": [
    "nasal_samples <- remove_contaminants(nasal_samples, \"Negative_control\")\n",
    "nasal_samples"
   ]
  },
  {
   "cell_type": "code",
   "execution_count": null,
   "metadata": {
    "vscode": {
     "languageId": "r"
    }
   },
   "outputs": [],
   "source": [
    "validate_positive_controls(nasal_samples, \"Positive_control\")"
   ]
  },
  {
   "cell_type": "code",
   "execution_count": null,
   "metadata": {
    "vscode": {
     "languageId": "r"
    }
   },
   "outputs": [],
   "source": [
    "nasal_outliers <- c(\n",
    "\t\"Bacteria_BK628-01M0138\",\n",
    "\t\"Bacteria_BK628-01M0133\",\n",
    "\t\"Bacteria_BK628-01M0103\",\n",
    "\t\"Bacteria_BK628-01M0032\"\n",
    ")"
   ]
  },
  {
   "cell_type": "code",
   "execution_count": null,
   "metadata": {
    "vscode": {
     "languageId": "r"
    }
   },
   "outputs": [],
   "source": [
    "nasal_samples <- remove_outliers(nasal_samples, nasal_outliers)\n",
    "nasal_samples"
   ]
  },
  {
   "cell_type": "code",
   "execution_count": null,
   "metadata": {
    "vscode": {
     "languageId": "r"
    }
   },
   "outputs": [],
   "source": [
    "nasal_samples_clean <- clean_phyloseq(nasal_samples)\n",
    "nasal_samples_clean"
   ]
  },
  {
   "cell_type": "markdown",
   "metadata": {},
   "source": [
    "## Transform data"
   ]
  },
  {
   "cell_type": "code",
   "execution_count": null,
   "metadata": {
    "vscode": {
     "languageId": "r"
    }
   },
   "outputs": [],
   "source": [
    "sample_data_df <- data.frame(sample_data(nasal_samples_clean))\n",
    "\n",
    "# Calculate sequencing depth (total reads per sample)\n",
    "sample_data_df$SequencingDepth <- sample_sums(nasal_samples_clean)\n",
    "\n",
    "# Perform Kruskal-Wallis test\n",
    "kruskal_test <- kruskal.test(SequencingDepth ~ treatment, data = sample_data_df)\n",
    "p_value <- kruskal_test$p.value\n",
    "\n",
    "# Create the plot\n",
    "ggplot(sample_data_df, aes(x = treatment, y = SequencingDepth, fill = treatment)) +\n",
    "  geom_boxplot() +\n",
    "  geom_jitter(width = 0.2, alpha = 0.5) +\n",
    "  theme_bw() +\n",
    "  labs(x = \"Treatment Group\", y = \"Sequencing Depth\") +\n",
    "  ggtitle(\"Sequencing Depth by Treatment Group\") \n",
    "\n",
    "# If the Kruskal-Wallis test is significant, perform post-hoc pairwise comparisons\n",
    "if (p_value < 0.05) {\n",
    "  pairwise_test <- pairwise.wilcox.test(sample_data_df$SequencingDepth, \n",
    "                                        sample_data_df$treatment, \n",
    "                                        p.adjust.method = \"bonferroni\")\n",
    "  print(kruskal_test)\n",
    "  print(pairwise_test)\n",
    "}"
   ]
  },
  {
   "cell_type": "code",
   "execution_count": null,
   "metadata": {
    "vscode": {
     "languageId": "r"
    }
   },
   "outputs": [],
   "source": [
    "plot_rarecurve(nasal_samples_clean)"
   ]
  },
  {
   "cell_type": "code",
   "execution_count": null,
   "metadata": {
    "vscode": {
     "languageId": "r"
    }
   },
   "outputs": [],
   "source": [
    "cutoff_nasal <- 100000"
   ]
  },
  {
   "cell_type": "code",
   "execution_count": null,
   "metadata": {
    "vscode": {
     "languageId": "r"
    }
   },
   "outputs": [],
   "source": [
    "nasal_phylo <- remove_low_depth_samples(nasal_samples_clean, cutoff_nasal)"
   ]
  },
  {
   "cell_type": "code",
   "execution_count": null,
   "metadata": {
    "vscode": {
     "languageId": "r"
    }
   },
   "outputs": [],
   "source": [
    "saveRDS(nasal_phylo, \"../../results/Microbiome_analysis/nasal_samples_clean_raw.rds\")\n",
    "system(\"Rscript ../scripts/parallel_rarefy_script.R --input ../../results/Microbiome_analysis/nasal_samples_clean_raw.rds --output ../../results/Microbiome_analysis/nasal_samples_clean_rarefied.rds --iterations 100 --sample_size 100000 --cores 12 --verbose\")"
   ]
  },
  {
   "cell_type": "code",
   "execution_count": null,
   "metadata": {
    "vscode": {
     "languageId": "r"
    }
   },
   "outputs": [],
   "source": [
    "nasal_phylo_rarefied <- readRDS(\"../../results/Microbiome_analysis/nasal_samples_clean_rarefied.rds\")"
   ]
  },
  {
   "cell_type": "code",
   "execution_count": null,
   "metadata": {
    "vscode": {
     "languageId": "r"
    }
   },
   "outputs": [],
   "source": [
    "nasal_phylo_clr <- microbiome::transform(nasal_phylo, \"clr\")\n",
    "nasal_phylo_comp <- microbiome::transform(nasal_phylo, \"compositional\")"
   ]
  },
  {
   "cell_type": "code",
   "execution_count": null,
   "metadata": {
    "vscode": {
     "languageId": "r"
    }
   },
   "outputs": [],
   "source": [
    "nasal_phylo %>%\n",
    "\tsample_data() %>%\n",
    "\tdata.frame() %>%\n",
    "\tgroup_by(treatment, timepoint) %>%\n",
    "\tcount()"
   ]
  },
  {
   "cell_type": "code",
   "execution_count": null,
   "metadata": {
    "vscode": {
     "languageId": "r"
    }
   },
   "outputs": [],
   "source": [
    "saveRDS(nasal_phylo, \"../../results/Microbiome_analysis/nasal_samples_clean_raw.rds\")\n",
    "saveRDS(nasal_phylo_rarefied, \"../../results/Microbiome_analysis/nasal_samples_clean_rarefied.rds\")\n",
    "saveRDS(nasal_phylo_clr, \"../../results/Microbiome_analysis/nasal_samples_clean_clr.rds\")\n",
    "saveRDS(nasal_phylo_comp, \"../../results/Microbiome_analysis/nasal_samples_clean_comp.rds\")"
   ]
  },
  {
   "cell_type": "markdown",
   "metadata": {},
   "source": [
    "# Gut samples"
   ]
  },
  {
   "cell_type": "markdown",
   "metadata": {},
   "source": [
    "## Data cleanup"
   ]
  },
  {
   "cell_type": "code",
   "execution_count": null,
   "metadata": {
    "vscode": {
     "languageId": "r"
    }
   },
   "outputs": [],
   "source": [
    "gut_samples <- readRDS(\"../../results/Bacteria_BK629-01/Dada2/04_phyloseq/Bacteria_BK629-01_phyloseq.rds\")\n",
    "gut_samples"
   ]
  },
  {
   "cell_type": "code",
   "execution_count": null,
   "metadata": {
    "vscode": {
     "languageId": "r"
    }
   },
   "outputs": [],
   "source": [
    "gut_samples %>%\n",
    "\tsample_data() %>%\n",
    "\tdata.frame() %>%\n",
    "\tgroup_by(treatment, timepoint) %>%\n",
    "\tcount()"
   ]
  },
  {
   "cell_type": "code",
   "execution_count": null,
   "metadata": {
    "vscode": {
     "languageId": "r"
    }
   },
   "outputs": [],
   "source": [
    "gut_samples <- relevel_metadata(gut_samples)\n",
    "gut_samples"
   ]
  },
  {
   "cell_type": "code",
   "execution_count": null,
   "metadata": {
    "vscode": {
     "languageId": "r"
    }
   },
   "outputs": [],
   "source": [
    "gut_samples <- remove_contaminants(gut_samples, \"Negative_control\")\n",
    "gut_samples"
   ]
  },
  {
   "cell_type": "code",
   "execution_count": null,
   "metadata": {
    "vscode": {
     "languageId": "r"
    }
   },
   "outputs": [],
   "source": [
    "validate_positive_controls(gut_samples, \"Positive_control\")"
   ]
  },
  {
   "cell_type": "code",
   "execution_count": null,
   "metadata": {
    "vscode": {
     "languageId": "r"
    }
   },
   "outputs": [],
   "source": [
    "gut_outliers <- c(\n",
    "\t\"Bacteria_BK629-01M0116\",\n",
    "\t\"Bacteria_BK629-01M0119\",\n",
    "\t\"Bacteria_BK629-01M0126\",\n",
    "\t\"Bacteria_BK629-01M0037\",\n",
    "\t\"Bacteria_BK629-01M0039\",\n",
    "\t\"Bacteria_BK629-01M0040\"\n",
    ")"
   ]
  },
  {
   "cell_type": "code",
   "execution_count": null,
   "metadata": {
    "vscode": {
     "languageId": "r"
    }
   },
   "outputs": [],
   "source": [
    "gut_samples <- remove_outliers(gut_samples, gut_outliers)\n",
    "gut_samples"
   ]
  },
  {
   "cell_type": "code",
   "execution_count": null,
   "metadata": {
    "vscode": {
     "languageId": "r"
    }
   },
   "outputs": [],
   "source": [
    "gut_samples_clean <- clean_phyloseq(gut_samples)\n",
    "gut_samples_clean"
   ]
  },
  {
   "cell_type": "markdown",
   "metadata": {},
   "source": [
    "## Transform data"
   ]
  },
  {
   "cell_type": "code",
   "execution_count": null,
   "metadata": {
    "vscode": {
     "languageId": "r"
    }
   },
   "outputs": [],
   "source": [
    "sample_data_df <- data.frame(sample_data(gut_samples_clean))\n",
    "\n",
    "# Calculate sequencing depth (total reads per sample)\n",
    "sample_data_df$SequencingDepth <- sample_sums(gut_samples_clean)\n",
    "\n",
    "# Perform Kruskal-Wallis test\n",
    "kruskal_test <- kruskal.test(SequencingDepth ~ treatment, data = sample_data_df)\n",
    "p_value <- kruskal_test$p.value\n",
    "\n",
    "# Create the plot\n",
    "ggplot(sample_data_df, aes(x = treatment, y = SequencingDepth, fill = treatment)) +\n",
    "  geom_boxplot() +\n",
    "  geom_jitter(width = 0.2, alpha = 0.5) +\n",
    "  theme_bw() +\n",
    "  labs(x = \"Treatment Group\", y = \"Sequencing Depth\") +\n",
    "  ggtitle(\"Sequencing Depth by Treatment Group\") \n",
    "\n",
    "# If the Kruskal-Wallis test is significant, perform post-hoc pairwise comparisons\n",
    "pairwise_test <- pairwise.wilcox.test(\n",
    "\tsample_data_df$SequencingDepth, \n",
    "\tsample_data_df$treatment, \n",
    "\tp.adjust.method = \"bonferroni\"\n",
    ")\n",
    "\n",
    "print(kruskal_test)\n",
    "print(pairwise_test)"
   ]
  },
  {
   "cell_type": "code",
   "execution_count": null,
   "metadata": {
    "vscode": {
     "languageId": "r"
    }
   },
   "outputs": [],
   "source": [
    "plot_rarecurve(gut_samples_clean)"
   ]
  },
  {
   "cell_type": "code",
   "execution_count": null,
   "metadata": {
    "vscode": {
     "languageId": "r"
    }
   },
   "outputs": [],
   "source": [
    "cutoff_gut <- 250000"
   ]
  },
  {
   "cell_type": "code",
   "execution_count": null,
   "metadata": {
    "vscode": {
     "languageId": "r"
    }
   },
   "outputs": [],
   "source": [
    "gut_phylo <- remove_low_depth_samples(gut_samples_clean, cutoff_gut)"
   ]
  },
  {
   "cell_type": "code",
   "execution_count": null,
   "metadata": {
    "vscode": {
     "languageId": "r"
    }
   },
   "outputs": [],
   "source": [
    "saveRDS(gut_phylo, \"../../results/Microbiome_analysis/gut_samples_clean_raw.rds\")\n",
    "system(\"Rscript ../scripts/parallel_rarefy_script.R --input ../../results/Microbiome_analysis/gut_samples_clean_raw.rds --output ../../results/Microbiome_analysis/gut_samples_clean_rarefied.rds --iterations 100 --sample_size 100000 --cores 12 --verbose\")"
   ]
  },
  {
   "cell_type": "code",
   "execution_count": null,
   "metadata": {
    "vscode": {
     "languageId": "r"
    }
   },
   "outputs": [],
   "source": [
    "gut_phylo_rarefied <- readRDS(\"../../results/Microbiome_analysis/gut_samples_clean_rarefied.rds\")"
   ]
  },
  {
   "cell_type": "code",
   "execution_count": null,
   "metadata": {
    "vscode": {
     "languageId": "r"
    }
   },
   "outputs": [],
   "source": [
    "gut_phylo_clr <- microbiome::transform(gut_phylo, \"clr\")\n",
    "gut_phylo_comp <- microbiome::transform(gut_phylo, \"compositional\")"
   ]
  },
  {
   "cell_type": "code",
   "execution_count": null,
   "metadata": {
    "vscode": {
     "languageId": "r"
    }
   },
   "outputs": [],
   "source": [
    "gut_phylo %>%\n",
    "\tsample_data() %>%\n",
    "\tdata.frame() %>%\n",
    "\tgroup_by(treatment, timepoint) %>%\n",
    "\tcount()"
   ]
  },
  {
   "cell_type": "code",
   "execution_count": null,
   "metadata": {
    "vscode": {
     "languageId": "r"
    }
   },
   "outputs": [],
   "source": [
    "saveRDS(gut_phylo, \"../../results/Microbiome_analysis/gut_samples_clean_raw.rds\")\n",
    "saveRDS(gut_phylo_rarefied, \"../../results/Microbiome_analysis/gut_samples_clean_rarefied.rds\")\n",
    "saveRDS(gut_phylo_clr, \"../../results/Microbiome_analysis/gut_samples_clean_clr.rds\")\n",
    "saveRDS(gut_phylo_comp, \"../../results/Microbiome_analysis/gut_samples_clean_comp.rds\")"
   ]
  },
  {
   "cell_type": "markdown",
   "metadata": {},
   "source": [
    "# Checking new the presence of the new Lactobacillus genera"
   ]
  },
  {
   "cell_type": "code",
   "execution_count": null,
   "metadata": {
    "vscode": {
     "languageId": "r"
    }
   },
   "outputs": [],
   "source": [
    "nasal_phylo <- readRDS(\"../../results/Microbiome_analysis/nasal_samples_clean_raw.rds\")\n",
    "nasal_phylo"
   ]
  },
  {
   "cell_type": "code",
   "execution_count": null,
   "metadata": {
    "vscode": {
     "languageId": "r"
    }
   },
   "outputs": [],
   "source": [
    "gut_phylo <- readRDS(\"../../results/Microbiome_analysis/gut_samples_clean_raw.rds\")\n",
    "gut_phylo"
   ]
  },
  {
   "cell_type": "code",
   "execution_count": null,
   "metadata": {
    "vscode": {
     "languageId": "r"
    }
   },
   "outputs": [],
   "source": [
    "new_lactobacillus_genera <- c(\n",
    "\t\"Lactobacillus\",\n",
    "\t\"Paralactobacillus\",\n",
    "\t\"Holzapfelia\",\n",
    "\t\"Amylolactobacillus\",\n",
    "\t\"Bombilactobacillus\",\n",
    "\t\"Companilactobacillus\",\n",
    "\t\"Lapidilactobacillus\",\n",
    "\t\"Agrilactobacillus\",\n",
    "\t\"Schleiferilactobacillus\",\n",
    "\t\"Loigolactobacillus\",\n",
    "\t\"Lacticaseibacillus\",\n",
    "\t\"Latilactobacillus\",\n",
    "\t\"Dellaglioa\",\n",
    "\t\"Liquorilactobacillus\",\n",
    "\t\"Ligilactobacillus\",\n",
    "\t\"Lactiplantibacillus\",\n",
    "\t\"Furfurilactobacillus\",\n",
    "\t\"Paucilactobacillus\",\n",
    "\t\"Limosilactobacillus\",\n",
    "\t\"Fructilactobacillus\",\n",
    "\t\"Acetilactobacillus\",\n",
    "\t\"Apilactobacillus\",\n",
    "\t\"Levilactobacillus\",\n",
    "\t\"Secundilactobacillus\",\n",
    "\t\"Lentilactobacillus\"\n",
    ")"
   ]
  },
  {
   "cell_type": "code",
   "execution_count": null,
   "metadata": {
    "vscode": {
     "languageId": "r"
    }
   },
   "outputs": [],
   "source": [
    "tax_table_nasal <- tax_table(nasal_phylo) %>%\n",
    "  as.data.frame() %>%\n",
    "  filter(Genus %in% new_lactobacillus_genera) %>%\n",
    "  count(Genus, name = \"n_ASVs_nasal\") %>%\n",
    "  arrange(desc(n_ASVs_nasal))"
   ]
  },
  {
   "cell_type": "code",
   "execution_count": null,
   "metadata": {
    "vscode": {
     "languageId": "r"
    }
   },
   "outputs": [],
   "source": [
    "tax_table_gut <- tax_table(gut_phylo) %>%\n",
    "  as.data.frame() %>%\n",
    "  filter(Genus %in% new_lactobacillus_genera) %>%\n",
    "  count(Genus, name = \"n_ASVs_gut\") %>%\n",
    "  arrange(desc(n_ASVs_gut))"
   ]
  },
  {
   "cell_type": "code",
   "execution_count": null,
   "metadata": {
    "vscode": {
     "languageId": "r"
    }
   },
   "outputs": [],
   "source": [
    "full_join(tax_table_nasal, tax_table_gut, by = \"Genus\") %>%\n",
    "\twrite.csv(\"./new_lactobacillius_genera_counts.csv\", row.names = FALSE)"
   ]
  },
  {
   "cell_type": "code",
   "execution_count": null,
   "metadata": {
    "vscode": {
     "languageId": "r"
    }
   },
   "outputs": [],
   "source": []
  }
 ],
 "metadata": {
  "kernelspec": {
   "display_name": "R",
   "language": "R",
   "name": "ir"
  },
  "language_info": {
   "codemirror_mode": "r",
   "file_extension": ".r",
   "mimetype": "text/x-r-source",
   "name": "R",
   "pygments_lexer": "r",
   "version": "4.3.2"
  }
 },
 "nbformat": 4,
 "nbformat_minor": 2
}
