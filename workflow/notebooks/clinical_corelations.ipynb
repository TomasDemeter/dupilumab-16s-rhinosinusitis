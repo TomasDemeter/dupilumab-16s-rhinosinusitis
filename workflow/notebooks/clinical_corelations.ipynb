{
 "cells": [
  {
   "cell_type": "markdown",
   "metadata": {},
   "source": [
    "# Load packages and data"
   ]
  },
  {
   "cell_type": "code",
   "execution_count": null,
   "metadata": {
    "vscode": {
     "languageId": "r"
    }
   },
   "outputs": [],
   "source": [
    "packages <- c(\"tidyverse\", \"phyloseq\", \"microbiome\", \"viridis\", \"corrplot\", \"ggcorrplot\")\n",
    "invisible(lapply(packages, function(p) suppressPackageStartupMessages(library(p, character.only = TRUE))))"
   ]
  },
  {
   "cell_type": "code",
   "execution_count": null,
   "metadata": {
    "vscode": {
     "languageId": "r"
    }
   },
   "outputs": [],
   "source": [
    "options(repr.plot.width=20, repr.plot.height=25)"
   ]
  },
  {
   "cell_type": "code",
   "execution_count": null,
   "metadata": {
    "vscode": {
     "languageId": "r"
    }
   },
   "outputs": [],
   "source": [
    "# import data\n",
    "nasal_phylo_clr <- readRDS(\"../../results/Microbiome_analysis/nasal_samples_clean_clr.rds\")\n",
    "nasal_phylo_clr"
   ]
  },
  {
   "cell_type": "code",
   "execution_count": null,
   "metadata": {
    "vscode": {
     "languageId": "r"
    }
   },
   "outputs": [],
   "source": [
    "# import data\n",
    "gut_phylo_clr <- readRDS(\"../../results/Microbiome_analysis/gut_samples_clean_clr.rds\")\n",
    "gut_phylo_clr"
   ]
  },
  {
   "cell_type": "code",
   "execution_count": null,
   "metadata": {
    "vscode": {
     "languageId": "r"
    }
   },
   "outputs": [],
   "source": [
    "genera_of_interest_nasal <- c(\"Staphylococcus\", \"Dolosigranulum\", \"Corynebacterium\", \"Lactobacillus\", \"Lawsonella\", \"Cutibacterium\")\n",
    "genera_of_interest_gut <- c(\"Bifidobacterium\", \"Collinsella\", \"Bacteroides\", \"Ruminococcus\", \"Prevotella\", \"Faecalibacterium\")"
   ]
  },
  {
   "cell_type": "markdown",
   "metadata": {},
   "source": [
    "# Functions"
   ]
  },
  {
   "cell_type": "code",
   "execution_count": null,
   "metadata": {
    "vscode": {
     "languageId": "r"
    }
   },
   "outputs": [],
   "source": [
    "create_subset_data <- function(phylo_obj, input_timepoint, input_treatment, genera_of_interest) {\n",
    "\t# Create subset based on timepoint and treatment\n",
    "\tgenera_subset <- prune_samples(sample_data(phylo_obj)$timepoint == input_timepoint, phylo_obj)\n",
    "\tgenera_subset <- prune_samples(sample_data(genera_subset)$treatment %in% input_treatment, genera_subset)\n",
    "\t\n",
    "\t# Get taxa table and find matching genera\n",
    "\ttaxa_table <- tax_table(genera_subset)\n",
    "\tmatching_taxa <- rownames(taxa_table)[taxa_table[, \"Genus\"] %in% genera_of_interest]\n",
    "\t\n",
    "\t# Subset taxa and aggregate rare taxa\n",
    "\tgenera_subset <- prune_taxa(matching_taxa, genera_subset)\n",
    "\tgenera_subset <- aggregate_rare(genera_subset, level = \"Genus\", detection = 1/100, prevalence = 1/100)\n",
    "\t\n",
    "\t# Convert OTU table to data frame\n",
    "\totu_genera_subset <- genera_subset %>%\n",
    "\t\t\totu_table() %>%\n",
    "\t\t\tt() %>%\n",
    "\t\t\tdata.frame() %>%\n",
    "\t\t\trownames_to_column(\"Sample_ID\")\n",
    "\t\n",
    "\t# Get sample data\n",
    "\tsample_data <- sample_data(phylo_obj) %>%\n",
    "\t\t\tdata.frame() %>%\n",
    "\t\t\trownames_to_column(\"Sample_ID\") %>%\n",
    "\t\t\tselect(-sequencing_run, -treatment, -patient, -timepoint, -Sex_male, -Smoking)\n",
    "\t\n",
    "\t# Combine OTU and sample data\n",
    "\tcombined_data <- inner_join(otu_genera_subset, sample_data, by = \"Sample_ID\") %>%\n",
    "\t\t\tcolumn_to_rownames(\"Sample_ID\")\n",
    "\t\t\t\n",
    "\treturn(combined_data)  \n",
    "}"
   ]
  },
  {
   "cell_type": "code",
   "execution_count": null,
   "metadata": {
    "vscode": {
     "languageId": "r"
    }
   },
   "outputs": [],
   "source": [
    "plot_corr_plotting <- function(corr_matrix, p_matrix, genera_of_interest, title, save_pdf = FALSE){\n",
    "\t# Select only the genera of interest and clinical factors\n",
    "\tcorr_matrix <- corr_matrix[genera_of_interest, !colnames(corr_matrix) %in% genera_of_interest]\n",
    "\tp_matrix <- p_matrix[genera_of_interest, !colnames(p_matrix) %in% genera_of_interest]\n",
    "\n",
    "\t# If saving to PDF, start PDF device\n",
    "\tif(save_pdf) {\n",
    "\t\t\t# Create directory if it doesn't exist\n",
    "\t\t\tsave_path <- \"../../results/Microbiome_analysis/plots/correlations\"\n",
    "\t\t\tif (!dir.exists(save_path)) {\n",
    "\t\t\t\t\tdir.create(save_path, recursive = TRUE)\n",
    "\t\t\t}\n",
    "\t\t\t\n",
    "\t\t\t# Create filename from title\n",
    "\t\t\tfilename <- file.path(save_path, \n",
    "\t\t\t\t\t\t\t\t\t\t\t\t\tpaste0(gsub(\" \", \"_\", tolower(title)), \".pdf\"))\n",
    "\t\t\tpdf(filename, width = 20, height = 10)\n",
    "\t\t\t\n",
    "\t\t\t# Create the plot for PDF\n",
    "\t\t\tpar(mar = c(0,0,2,0))    \n",
    "\t\t\tmain_title <- title.cex <- 2  \n",
    "\t\t\tplot <- corrplot(corr_matrix,\n",
    "\t\t\t\t\tmethod = \"color\", \n",
    "\t\t\t\t\ttype = \"full\",\n",
    "\t\t\t\t\torder = \"original\",\n",
    "\t\t\t\t\ttl.col = \"black\",\n",
    "\t\t\t\t\ttl.srt = 90,\n",
    "\t\t\t\t\tp.mat = p_matrix,\n",
    "\t\t\t\t\tnumber.cex = 1.2,     \n",
    "\t\t\t\t\ttl.cex = 1.2,\n",
    "\t\t\t\t\tcl.cex = 1.2,         \n",
    "\t\t\t\t\tcol = viridis(200, option = 'H'),  \n",
    "\t\t\t\t\taddCoef.col = \"white\",\n",
    "\t\t\t\t\tinsig = \"blank\",\n",
    "\t\t\t\t\taddgrid.col = \"black\",  \n",
    "\t\t\t\t\toutline = TRUE,\n",
    "\t\t\t\t\tmar = c(0,0,4,0)    \n",
    "\t\t\t)\n",
    "\t\t\ttitle(main = title, cex.main = main_title)\n",
    "\t\t\tdev.off()\n",
    "\t\t\tcat(\"Saved:\", filename, \"\\n\")\n",
    "\t}\n",
    "\n",
    "\t# Create the plot for display\n",
    "\toptions(repr.plot.width=20, repr.plot.height=10)\n",
    "\tpar(mar = c(0,0,2,0))    \n",
    "\tmain_title <- title.cex <- 2  \n",
    "\tplot <- corrplot(corr_matrix,\n",
    "\t\t\tmethod = \"color\", \n",
    "\t\t\ttype = \"full\",\n",
    "\t\t\torder = \"original\",\n",
    "\t\t\ttl.col = \"black\",\n",
    "\t\t\ttl.srt = 90,\n",
    "\t\t\tp.mat = p_matrix,\n",
    "\t\t\tnumber.cex = 1.2,     \n",
    "\t\t\ttl.cex = 1.2,\n",
    "\t\t\tcl.cex = 1.2,         \n",
    "\t\t\tcol = viridis(200, option = 'H'),  \n",
    "\t\t\taddCoef.col = \"white\",\n",
    "\t\t\tinsig = \"blank\",\n",
    "\t\t\taddgrid.col = \"black\",  \n",
    "\t\t\toutline = TRUE,\n",
    "\t\t\tmar = c(0,0,4,0)    \n",
    "\t)\n",
    "\t\n",
    "\t# Add title separately using base R\n",
    "\ttitle(main = title, cex.main = main_title)\n",
    "\n",
    "\treturn(plot)\n",
    "}"
   ]
  },
  {
   "cell_type": "markdown",
   "metadata": {},
   "source": [
    "# Nasal pasage Dupilumab treatment"
   ]
  },
  {
   "cell_type": "markdown",
   "metadata": {},
   "source": [
    "### day 0"
   ]
  },
  {
   "cell_type": "code",
   "execution_count": null,
   "metadata": {
    "vscode": {
     "languageId": "r"
    }
   },
   "outputs": [],
   "source": [
    "nasal_dupilumab_day_0 <- create_subset_data(\n",
    "\tphylo_obj = nasal_phylo_clr,\n",
    "\tinput_timepoint = 0,\n",
    "\tinput_treatment = \"Dupilumab_treatment\",\n",
    "\tgenera_of_interest = genera_of_interest_nasal\n",
    ")"
   ]
  },
  {
   "cell_type": "code",
   "execution_count": null,
   "metadata": {
    "vscode": {
     "languageId": "r"
    }
   },
   "outputs": [],
   "source": [
    "nasal_dupilumab_rho_0 <- cor(nasal_dupilumab_day_0, method = \"spearman\", use = \"pairwise.complete.obs\")\n",
    "nasal_dupilumab_p_0 <- cor_pmat(nasal_dupilumab_day_0, method = \"spearman\",  exact = FALSE)\n",
    "nasal_dupilumab_p_adjusted_0 <- apply(nasal_dupilumab_p_0, 2, p.adjust, method = \"fdr\")"
   ]
  },
  {
   "cell_type": "code",
   "execution_count": null,
   "metadata": {
    "vscode": {
     "languageId": "r"
    }
   },
   "outputs": [],
   "source": [
    "nasal_dupilumab_0_plot <- plot_corr_plotting(\n",
    "\tnasal_dupilumab_rho_0, \n",
    "\tnasal_dupilumab_p_adjusted_0, \n",
    "\tgenera_of_interest_nasal, \n",
    "\t\"Spearman correlation cytokines and selected nasal passage genera (Dupilumab treatment day 0)\",\n",
    "\tsave_pdf = TRUE\n",
    ")"
   ]
  },
  {
   "cell_type": "markdown",
   "metadata": {},
   "source": [
    "### day 28"
   ]
  },
  {
   "cell_type": "code",
   "execution_count": null,
   "metadata": {
    "vscode": {
     "languageId": "r"
    }
   },
   "outputs": [],
   "source": [
    "nasal_dupilumab_day_28 <- create_subset_data(\n",
    "\tphylo_obj = nasal_phylo_clr,\n",
    "\tinput_timepoint = 28,\n",
    "\tinput_treatment = \"Dupilumab_treatment\",\n",
    "\tgenera_of_interest = genera_of_interest_nasal\n",
    ")"
   ]
  },
  {
   "cell_type": "code",
   "execution_count": null,
   "metadata": {
    "vscode": {
     "languageId": "r"
    }
   },
   "outputs": [],
   "source": [
    "nasal_dupilumab_rho_28 <- cor(nasal_dupilumab_day_28, method = \"spearman\", use = \"pairwise.complete.obs\")\n",
    "nasal_dupilumab_p_28 <- cor_pmat(nasal_dupilumab_day_28, method = \"spearman\",  exact = FALSE)\n",
    "nasal_dupilumab_p_adjusted_28 <- apply(nasal_dupilumab_p_28, 2, p.adjust, method = \"fdr\")"
   ]
  },
  {
   "cell_type": "code",
   "execution_count": null,
   "metadata": {
    "vscode": {
     "languageId": "r"
    }
   },
   "outputs": [],
   "source": [
    "nasal_dupilumab_28_plot <- plot_corr_plotting(\n",
    "\tnasal_dupilumab_rho_28, \n",
    "\tnasal_dupilumab_p_adjusted_28, \n",
    "\tgenera_of_interest_nasal, \n",
    "\t\"Spearman correlation cytokines and selected nasal passage genera (Dupilumab treatment day 28)\",\n",
    "\tsave_pdf = TRUE\n",
    ")"
   ]
  },
  {
   "cell_type": "markdown",
   "metadata": {},
   "source": [
    "### day 90"
   ]
  },
  {
   "cell_type": "code",
   "execution_count": null,
   "metadata": {
    "vscode": {
     "languageId": "r"
    }
   },
   "outputs": [],
   "source": [
    "nasal_dupilumab_day_90 <- create_subset_data(\n",
    "\tphylo_obj = nasal_phylo_clr,\n",
    "\tinput_timepoint = 90,\n",
    "\tinput_treatment = \"Dupilumab_treatment\",\n",
    "\tgenera_of_interest = genera_of_interest_nasal\n",
    ")"
   ]
  },
  {
   "cell_type": "code",
   "execution_count": null,
   "metadata": {
    "vscode": {
     "languageId": "r"
    }
   },
   "outputs": [],
   "source": [
    "nasal_dupilumab_rho_90 <- cor(nasal_dupilumab_day_90, method = \"spearman\", use = \"pairwise.complete.obs\")\n",
    "nasal_dupilumab_p_90 <- cor_pmat(nasal_dupilumab_day_90, method = \"spearman\",  exact = FALSE)\n",
    "nasal_dupilumab_p_adjusted_90 <- apply(nasal_dupilumab_p_90, 2, p.adjust, method = \"fdr\")"
   ]
  },
  {
   "cell_type": "code",
   "execution_count": null,
   "metadata": {
    "vscode": {
     "languageId": "r"
    }
   },
   "outputs": [],
   "source": [
    "nasal_dupilumab_90_plot <- plot_corr_plotting(\n",
    "\tnasal_dupilumab_rho_90, \n",
    "\tnasal_dupilumab_p_adjusted_90, \n",
    "\tgenera_of_interest_nasal, \n",
    "\t\"Spearman correlation cytokines and selected nasal passage genera (Dupilumab treatment day 90)\",\n",
    "\tsave_pdf = TRUE\n",
    ")"
   ]
  },
  {
   "cell_type": "markdown",
   "metadata": {},
   "source": [
    "# Gut samples Dupilumab treatment"
   ]
  },
  {
   "cell_type": "markdown",
   "metadata": {},
   "source": [
    "### day 0"
   ]
  },
  {
   "cell_type": "code",
   "execution_count": null,
   "metadata": {
    "vscode": {
     "languageId": "r"
    }
   },
   "outputs": [],
   "source": [
    "gut_dupilumab_day_0 <- create_subset_data(\n",
    "\tphylo_obj = gut_phylo_clr,\n",
    "\tinput_timepoint = 0,\n",
    "\tinput_treatment = \"Dupilumab_treatment\",\n",
    "\tgenera_of_interest = genera_of_interest_gut\n",
    ")"
   ]
  },
  {
   "cell_type": "code",
   "execution_count": null,
   "metadata": {
    "vscode": {
     "languageId": "r"
    }
   },
   "outputs": [],
   "source": [
    "gut_dupilumab_rho_0 <- cor(gut_dupilumab_day_0, method = \"spearman\", use = \"pairwise.complete.obs\")\n",
    "gut_dupilumab_p_0 <- cor_pmat(gut_dupilumab_day_0, method = \"spearman\",  exact = FALSE)\n",
    "gut_dupilumab_p_adjusted_0 <- apply(gut_dupilumab_p_0, 2, p.adjust, method = \"fdr\")"
   ]
  },
  {
   "cell_type": "code",
   "execution_count": null,
   "metadata": {
    "vscode": {
     "languageId": "r"
    }
   },
   "outputs": [],
   "source": [
    "gut_dupilumab_0_plot <- plot_corr_plotting(\n",
    "\tgut_dupilumab_rho_0, \n",
    "\tgut_dupilumab_p_adjusted_0, \n",
    "\tgenera_of_interest_gut, \n",
    "\t\"Spearman correlation cytokines and selected gut samples genera (Dupilumab treatment day 0)\",\n",
    "\tsave_pdf = TRUE\n",
    ")"
   ]
  },
  {
   "cell_type": "markdown",
   "metadata": {},
   "source": [
    "### day 28"
   ]
  },
  {
   "cell_type": "code",
   "execution_count": null,
   "metadata": {
    "vscode": {
     "languageId": "r"
    }
   },
   "outputs": [],
   "source": [
    "gut_dupilumab_day_28 <- create_subset_data(\n",
    "\tphylo_obj = gut_phylo_clr,\n",
    "\tinput_timepoint = 28,\n",
    "\tinput_treatment = \"Dupilumab_treatment\",\n",
    "\tgenera_of_interest = genera_of_interest_gut\n",
    ")"
   ]
  },
  {
   "cell_type": "code",
   "execution_count": null,
   "metadata": {
    "vscode": {
     "languageId": "r"
    }
   },
   "outputs": [],
   "source": [
    "gut_dupilumab_rho_28 <- cor(gut_dupilumab_day_28, method = \"spearman\", use = \"pairwise.complete.obs\")\n",
    "gut_dupilumab_p_28 <- cor_pmat(gut_dupilumab_day_28, method = \"spearman\",  exact = FALSE)\n",
    "gut_dupilumab_p_adjusted_28 <- apply(gut_dupilumab_p_28, 2, p.adjust, method = \"fdr\")"
   ]
  },
  {
   "cell_type": "code",
   "execution_count": null,
   "metadata": {
    "vscode": {
     "languageId": "r"
    }
   },
   "outputs": [],
   "source": [
    "gut_dupilumab_28_plot <- plot_corr_plotting(\n",
    "\tgut_dupilumab_rho_28, \n",
    "\tgut_dupilumab_p_adjusted_28, \n",
    "\tgenera_of_interest_gut, \n",
    "\t\"Spearman correlation cytokines and selected gut samples genera (Dupilumab treatment day 28)\",\n",
    "\tsave_pdf = TRUE\n",
    ")"
   ]
  },
  {
   "cell_type": "markdown",
   "metadata": {},
   "source": [
    "### Day 90"
   ]
  },
  {
   "cell_type": "code",
   "execution_count": null,
   "metadata": {
    "vscode": {
     "languageId": "r"
    }
   },
   "outputs": [],
   "source": [
    "gut_dupilumab_day_90 <- create_subset_data(\n",
    "\tphylo_obj = gut_phylo_clr,\n",
    "\tinput_timepoint = 90,\n",
    "\tinput_treatment = \"Dupilumab_treatment\",\n",
    "\tgenera_of_interest = genera_of_interest_gut\n",
    ")"
   ]
  },
  {
   "cell_type": "code",
   "execution_count": null,
   "metadata": {
    "vscode": {
     "languageId": "r"
    }
   },
   "outputs": [],
   "source": [
    "gut_dupilumab_rho_90 <- cor(gut_dupilumab_day_90, method = \"spearman\", use = \"pairwise.complete.obs\")\n",
    "gut_dupilumab_p_90 <- cor_pmat(gut_dupilumab_day_90, method = \"spearman\",  exact = FALSE)\n",
    "gut_dupilumab_p_adjusted_90 <- apply(gut_dupilumab_p_90, 2, p.adjust, method = \"fdr\")"
   ]
  },
  {
   "cell_type": "code",
   "execution_count": null,
   "metadata": {
    "vscode": {
     "languageId": "r"
    }
   },
   "outputs": [],
   "source": [
    "gut_dupilumab_90_plot <- plot_corr_plotting(\n",
    "\tgut_dupilumab_rho_90, \n",
    "\tgut_dupilumab_p_adjusted_90, \n",
    "\tgenera_of_interest_gut, \n",
    "\t\"Spearman correlation cytokines and selected gut samples genera (Dupilumab treatment day 90)\",\n",
    "\tsave_pdf = TRUE\n",
    ")"
   ]
  }
 ],
 "metadata": {
  "kernelspec": {
   "display_name": "R",
   "language": "R",
   "name": "ir"
  },
  "language_info": {
   "codemirror_mode": "r",
   "file_extension": ".r",
   "mimetype": "text/x-r-source",
   "name": "R",
   "pygments_lexer": "r",
   "version": "4.3.2"
  }
 },
 "nbformat": 4,
 "nbformat_minor": 2
}
