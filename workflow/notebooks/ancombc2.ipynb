{
 "cells": [
  {
   "cell_type": "markdown",
   "metadata": {},
   "source": [
    "# Load libraries and data"
   ]
  },
  {
   "cell_type": "code",
   "execution_count": null,
   "metadata": {
    "vscode": {
     "languageId": "r"
    }
   },
   "outputs": [],
   "source": [
    "library(ANCOMBC)\n",
    "library(tidyverse)\n",
    "library(phyloseq)\n",
    "library(ggrepel)\n",
    "library(viridis)\n",
    "library(microbiome)\n",
    "library(pheatmap)\n",
    "\n",
    "options(repr.plot.width=15, repr.plot.height=10)"
   ]
  },
  {
   "cell_type": "code",
   "execution_count": null,
   "metadata": {
    "vscode": {
     "languageId": "r"
    }
   },
   "outputs": [],
   "source": [
    "nasal_phylo_raw <- readRDS(\"../../results/Microbiome_analysis/nasal_samples_clean_raw.rds\")\n",
    "nasal_phylo_raw"
   ]
  },
  {
   "cell_type": "code",
   "execution_count": null,
   "metadata": {
    "vscode": {
     "languageId": "r"
    }
   },
   "outputs": [],
   "source": [
    "gut_phylo_raw <- readRDS(\"../../results/Microbiome_analysis/gut_samples_clean_raw.rds\")\n",
    "gut_phylo_raw"
   ]
  },
  {
   "cell_type": "markdown",
   "metadata": {},
   "source": [
    "# Functions"
   ]
  },
  {
   "cell_type": "code",
   "execution_count": null,
   "metadata": {
    "vscode": {
     "languageId": "r"
    }
   },
   "outputs": [],
   "source": [
    "filter_data <- function(ps, prev_threshold = 0.10, rel_abund_threshold = 0.01) {\n",
    "\n",
    "\t# Calculate prevalence of each ASV\n",
    "  prevdf <- apply(\n",
    "\t\tX = otu_table(ps),\n",
    "\t\tMARGIN = ifelse(taxa_are_rows(ps), 1, 2),\n",
    "\t\tFUN = function(x) sum(x > 0)\n",
    "\t)\n",
    "\n",
    "  # Calculate relative abundance of each ASV\n",
    "  total_counts <- sum(taxa_sums(ps))\n",
    "  rel_abundance <- taxa_sums(ps) / total_counts * 100\n",
    "\n",
    "  # Add taxonomy, prevalence, and relative abundance to data.frame\n",
    "  prevdf <- data.frame(\n",
    "\t\tPrevalence = prevdf,\n",
    "\t\tRelativeAbundance = rel_abundance,\n",
    "\t\ttax_table(ps)\n",
    "\t)\n",
    "\n",
    "  # Define prevalence threshold as % of total samples\n",
    "  prevalenceThreshold <- prev_threshold * nsamples(ps)\n",
    "\n",
    "  # Execute prevalence and relative abundance filter, using `prune_taxa()` function\n",
    "  keepTaxa <- rownames(prevdf)[(\n",
    "\t\tprevdf$Prevalence >= prevalenceThreshold &\n",
    "\t\tprevdf$RelativeAbundance >= rel_abund_threshold\n",
    "\t)]\n",
    "\n",
    "  ps_filtered <- prune_taxa(keepTaxa, ps)\n",
    "\n",
    "  # Calculate removed and retained ASVs\n",
    "  removed_asvs <- ntaxa(ps) - ntaxa(ps_filtered)\n",
    "  retained_asvs <- ntaxa(ps_filtered)\n",
    "\n",
    "  # Print results\n",
    "  cat(\"Original number of ASVs:\", ntaxa(ps), \"\\n\")\n",
    "  cat(\"Number of ASVs removed:\", removed_asvs, \"\\n\")\n",
    "  cat(\"Number of ASVs retained:\", retained_asvs, \"\\n\")\n",
    "  cat(\"Prevalence threshold:\", prev_threshold, \"\\n\")\n",
    "  cat(\"Relative abundance threshold:\", rel_abund_threshold, \"% \\n\")\n",
    "\n",
    "  return(ps_filtered)\n",
    "}\n"
   ]
  },
  {
   "cell_type": "code",
   "execution_count": null,
   "metadata": {
    "vscode": {
     "languageId": "r"
    }
   },
   "outputs": [],
   "source": [
    "perform_ancombc2 <- function(data, fixed_formula, rand_formula = NULL, group, em_max_iter = 100, em_tol = 1e-5) {\n",
    "\n",
    "  result <- ancombc2(\n",
    "    data = data,                 # Input data\n",
    "    assay_name = \"counts\",       # Name of the assay containing count data\n",
    "    tax_level = \"Genus\",         # Taxonomic level for analysis\n",
    "    fix_formula = fixed_formula, # Fixed effects formula\n",
    "    rand_formula = rand_formula, # Random effects formula\n",
    "    p_adj_method = \"BH\",         # Method for p-value adjustment (Benjamini-Hochberg)\n",
    "    pseudo_sens = TRUE,          # Perform pseudo-count sensitivity analysis\n",
    "    s0_perc = 0.05,              # Percentile for calculating prior variance\n",
    "    group = group,               # Grouping variable\n",
    "    struc_zero = TRUE,           # Account for structural zeros\n",
    "    neg_lb = TRUE,               # Use negative lower bound for bias correction\n",
    "    alpha = 0.05,                # Significance level\n",
    "    n_cl = 12,                   # Use 12 cores \n",
    "    verbose = FALSE,              # Print progress messages\n",
    "    global = FALSE,              # Perform global test\n",
    "    pairwise = TRUE,             # Perform pairwise comparisons\n",
    "    dunnet = TRUE,               # Perform Dunnett's test\n",
    "    trend = FALSE,               # Perform trend test\n",
    "    mdfdr_control = list(        # Control parameters for MDFDR\n",
    "      fwer_ctrl_method = \"BH\",   # FWER control method\n",
    "      B = 1000                   # Number of permutations\n",
    "    ),\n",
    "    em_control = list(           # Control parameters for EM algorithm\n",
    "      tol = em_tol,              # Convergence tolerance\n",
    "      max_iter = em_max_iter     # Maximum number of iterations\n",
    "    )\n",
    "  )\n",
    "  return(result)\n",
    "}"
   ]
  },
  {
   "cell_type": "code",
   "execution_count": null,
   "metadata": {
    "vscode": {
     "languageId": "r"
    }
   },
   "outputs": [],
   "source": [
    "subset_treatment_timepoints <- function(phylo_obj, treatments, genera_of_interest, timepoints) {\n",
    "  # Get sample data\n",
    "  sample_data <- data.frame(sample_data(phylo_obj))\n",
    "  \n",
    "  # Filter samples for the specified treatments and timepoints\n",
    "  samples_to_keep <- rownames(sample_data)[\n",
    "\t\tsample_data$treatment %in% treatments & \n",
    "\t\tsample_data$timepoint %in% timepoints\n",
    "\t]\n",
    "  \n",
    "  # Prune samples\n",
    "  phylo_filtered <- prune_samples(samples_to_keep, phylo_obj)\n",
    "  \n",
    "  # Get patients present in all specified timepoints\n",
    "  samples_df <- data.frame(sample_data(phylo_filtered))\n",
    "  \n",
    "  samples_at_all_timepoints <- samples_df %>%\n",
    "    group_by(patient) %>%\n",
    "    summarize(timepoint_count = n_distinct(timepoint)) %>%\n",
    "    filter(timepoint_count == length(timepoints)) %>%\n",
    "    pull(patient)\n",
    "  \n",
    "  if(length(samples_at_all_timepoints) == 0) {\n",
    "    stop(\"No patients found with data at all specified timepoints\")\n",
    "  }\n",
    "  \n",
    "  # Further filter for patients with all timepoints\n",
    "  samples_to_keep_final <- rownames(samples_df)[samples_df$patient %in% samples_at_all_timepoints]\n",
    "  phylo_filtered <- prune_samples(samples_to_keep_final, phylo_filtered)\n",
    "    \n",
    "  return(phylo_filtered)\n",
    "}"
   ]
  },
  {
   "cell_type": "code",
   "execution_count": null,
   "metadata": {
    "vscode": {
     "languageId": "r"
    }
   },
   "outputs": [],
   "source": [
    "plot_ancomb_results_timepoint_healthy <- function(ancomb_results, title) {\n",
    "\n",
    "\tprocess_ancombc_results_timepoint <- function(ancomb_results) {\n",
    "\t\tprocessed_df <- ancomb_results$res  %>%\n",
    "\t\t\t# First filter out lines ending with NA\n",
    "\t\t\tfilter(!endsWith(taxon, \"NA\"))  %>%\n",
    "\t\t\t# Keep everything after the fifth underscore\n",
    "\t\t\tmutate(taxon = sub(\"^([^_]*_){5}\", \"\", taxon)) %>%\n",
    "\t\t\tfilter(\n",
    "\t\t\t\tdiff_timepoint0 == TRUE | \n",
    "\t\t\t\tdiff_timepoint28 == TRUE | \n",
    "\t\t\t\tdiff_timepoint90 == TRUE |\n",
    "\t\t\t\tdiff_timepoint180 == TRUE\n",
    "\t\t\t\t) %>%\n",
    "\t\t\tmutate(\n",
    "\t\t\t\tlfc_timepoint0 = ifelse(diff_timepoint0 == FALSE, 0, lfc_timepoint0),\n",
    "\t\t\t\tlfc_timepoint28 = ifelse(diff_timepoint28 == FALSE, 0, lfc_timepoint28),\n",
    "\t\t\t\tlfc_timepoint90 = ifelse(diff_timepoint90 == FALSE, 0, lfc_timepoint90),\n",
    "\t\t\t\tlfc_timepoint180 = ifelse(diff_timepoint180 == FALSE, 0, lfc_timepoint180),\n",
    "\t\t\t\t) %>%\n",
    "\t\t\tmutate(across(where(is.numeric), ~round(., 2))) \n",
    "\n",
    "\t\treturn(processed_df)\n",
    "\t}\n",
    "\n",
    "\tcreate_heatmap_timepoints <- function(df, title) {\n",
    "\t\t# Define new column names\n",
    "\t\tnew_column_names <- c(\n",
    "\t\t\t\"Dupilumab day 0 vs healthy day 0 \" = \"lfc_timepoint0\",\n",
    "\t\t\t\"Dupilumab day 28 vs healthy day 0 \" = \"lfc_timepoint28\",\n",
    "\t\t\t\"Dupilumab day 90 vs healthy day 0 \" = \"lfc_timepoint90\", \n",
    "\t\t\t\"Dupilumab day 180 vs healthy day 0 \" = \"lfc_timepoint180\"\n",
    "\t\t)\n",
    "\n",
    "\t\t# Prepare the data for heatmap\n",
    "\t\theatmap_data <- df %>%\n",
    "\t\t\tselect(taxon, lfc_timepoint0, lfc_timepoint28, lfc_timepoint90, lfc_timepoint180) %>%\n",
    "\t\t\tcolumn_to_rownames(\"taxon\") %>%\n",
    "\t\t\tas.matrix()\n",
    "\n",
    "\t\t# Rename columns\n",
    "\t\tcolnames(heatmap_data) <- names(new_column_names)[match(colnames(heatmap_data), new_column_names)]\n",
    "\n",
    "\t\t# Calculate the maximum absolute value for symmetrical color scaling\n",
    "\t\tmax_abs_value <- max(abs(heatmap_data), na.rm = TRUE)\n",
    "\n",
    "\t\t# Create a matrix of cell labels (the LFC values)\n",
    "\t\tcell_labels <- matrix(sprintf(\"%.2f\", heatmap_data), ncol = ncol(heatmap_data))\n",
    "\n",
    "\t\t# Create a color matrix for the numbers\n",
    "\t\tnumber_colors <- df %>%\n",
    "\t\t\tselect(taxon, passed_ss_timepoint0, passed_ss_timepoint28, passed_ss_timepoint90, passed_ss_timepoint180) %>%\n",
    "\t\t\tcolumn_to_rownames(\"taxon\") %>%\n",
    "\t\t\tmutate(across(everything(), ~ifelse(., \"white\", \"black\"))) %>%\n",
    "\t\t\tas.matrix()\n",
    "\n",
    "\t\t# Rename columns of number_colors\n",
    "\t\tcolnames(number_colors) <- names(new_column_names)[match(colnames(number_colors), new_column_names)]\n",
    "\n",
    "\t\t# Perform clustering to get the correct order\n",
    "\t\tif (nrow(heatmap_data) > 1) {\n",
    "\t\t\tclustering <- hclust(dist(heatmap_data))\n",
    "\t\t\tordered_taxa <- rownames(heatmap_data)[clustering$order]\n",
    "\t\t\tnumber_colors <- number_colors[ordered_taxa, ]\n",
    "\t\t}\n",
    "\n",
    "\t\t# Create the heatmap\n",
    "\t\tpheatmap(\n",
    "\t\t\theatmap_data,\n",
    "\t\t\tcolor = viridis(100, option = \"H\", direction = 1),\n",
    "\t\t\tbreaks = seq(-max_abs_value, max_abs_value, length.out = 101),\n",
    "\t\t\tcluster_rows = nrow(heatmap_data) > 1,\n",
    "\t\t\tcluster_cols = FALSE,\n",
    "\t\t\tmain = title,\n",
    "\t\t\tfontsize = 20, \n",
    "\t\t\tangle_col = 0,\n",
    "\t\t\tfontsize_row = 25,\n",
    "\t\t\tfontsize_col = 25,\n",
    "\t\t\tdisplay_numbers = cell_labels,\n",
    "\t\t\tnumber_color = number_colors,\n",
    "\t\t\tfontsize_number = 30\n",
    "\t\t)\n",
    "\t}\n",
    "    \n",
    "\tdf <- process_ancombc_results_timepoint(ancomb_results)\n",
    "\n",
    "\n",
    "\tif (nrow(df) == 0) {\n",
    "\t\treturn(\"No siginifcant changes detected\")\n",
    "\t} else {\n",
    "\t\tplot <- create_heatmap_timepoints(df, title)\n",
    "\t\treturn(plot)\n",
    "\t} \n",
    "}"
   ]
  },
  {
   "cell_type": "markdown",
   "metadata": {},
   "source": [
    "# Prevalence and abundance filtering"
   ]
  },
  {
   "cell_type": "code",
   "execution_count": null,
   "metadata": {
    "vscode": {
     "languageId": "r"
    }
   },
   "outputs": [],
   "source": [
    "nasal_phylo_filtered <- filter_data(nasal_phylo_raw, prev_threshold = 0.1, rel_abund_threshold  = 0.01)"
   ]
  },
  {
   "cell_type": "code",
   "execution_count": null,
   "metadata": {
    "vscode": {
     "languageId": "r"
    }
   },
   "outputs": [],
   "source": [
    "gut_phylo_filtered <- filter_data(gut_phylo_raw, prev_threshold = 0.1, rel_abund_threshold  = 0.01)"
   ]
  },
  {
   "cell_type": "markdown",
   "metadata": {},
   "source": [
    "# Healthy day 0 compared to various dipilumab timepoints"
   ]
  },
  {
   "cell_type": "markdown",
   "metadata": {},
   "source": [
    "## Nasal samples"
   ]
  },
  {
   "cell_type": "code",
   "execution_count": null,
   "metadata": {
    "vscode": {
     "languageId": "r"
    }
   },
   "outputs": [],
   "source": [
    "nasal_phylo_dupilumab <- subset_samples(nasal_phylo_filtered, treatment == \"Dupilumab_treatment\")\n",
    "\n",
    "nasal_phylo_healthy_dupi <- subset_treatment_timepoints(\n",
    "\tphylo_obj = nasal_phylo_raw,\n",
    "\ttreatment = c(\"healthy_control\"),\n",
    "\tgenera_of_interest = genera_of_interest,\n",
    "\ttimepoints = c(\"0\")\n",
    ")\n",
    "\n",
    "# Update sample data for healthy controls\n",
    "sample_data(nasal_phylo_healthy_dupi)$timepoint <- \"healthy day 0\"\n",
    "\n",
    "\n",
    "# Merge healthy controls with the existing dupilumab filtered data\n",
    "nasal_phylo_comp_modified <- merge_phyloseq(nasal_phylo_dupilumab, nasal_phylo_healthy_dupi)\n",
    "\n",
    "# Update sample data for the merged phyloseq object\n",
    "sample_data(nasal_phylo_comp_modified)$timepoint <- factor(\n",
    "  sample_data(nasal_phylo_comp_modified)$timepoint,\n",
    "  levels = c(\"healthy day 0\", \"0\", \"28\", \"90\", \"180\")\n",
    ")\n",
    "\n",
    "nasal_phylo_comp_modified"
   ]
  },
  {
   "cell_type": "code",
   "execution_count": null,
   "metadata": {
    "vscode": {
     "languageId": "r"
    }
   },
   "outputs": [],
   "source": [
    "nasal_phylo_comp_modified_ancombc2 <- perform_ancombc2(\n",
    "\tnasal_phylo_comp_modified,\n",
    "\tfixed_formula = \"timepoint\",\n",
    "\trand_formula = \"(1 | patient)\",\n",
    "\tgroup = \"timepoint\"\n",
    ")\n",
    "\n",
    "saveRDS(nasal_phylo_comp_modified_ancombc2,\"../../results/Microbiome_analysis/ANCOM-BC2/nasal_phylo_comp_modified_ancombc2.rds\")"
   ]
  },
  {
   "cell_type": "code",
   "execution_count": null,
   "metadata": {
    "vscode": {
     "languageId": "r"
    }
   },
   "outputs": [],
   "source": [
    "nasal_phylo_comp_modified_ancombc2 <- readRDS(\"../../results/Microbiome_analysis/ANCOM-BC2/nasal_phylo_comp_modified_ancombc2.rds\")"
   ]
  },
  {
   "cell_type": "code",
   "execution_count": null,
   "metadata": {
    "vscode": {
     "languageId": "r"
    }
   },
   "outputs": [],
   "source": [
    "options(repr.plot.width=30, repr.plot.height=25)\n",
    "\n",
    "nasal_phylo_comp_modified_ancombc2_heatmap <- plot_ancomb_results_timepoint_healthy(nasal_phylo_comp_modified_ancombc2, \"Dupilumab treatment accross different timepoints comapred to healthy day 0 (nasal passage samples)\")\n",
    "nasal_phylo_comp_modified_ancombc2_heatmap"
   ]
  },
  {
   "cell_type": "markdown",
   "metadata": {},
   "source": [
    "## Gut samples"
   ]
  },
  {
   "cell_type": "code",
   "execution_count": null,
   "metadata": {
    "vscode": {
     "languageId": "r"
    }
   },
   "outputs": [],
   "source": [
    "gut_phylo_dupilumab <- subset_samples(gut_phylo_filtered, treatment == \"Dupilumab_treatment\")\n",
    "\n",
    "gut_phylo_healthy_dupi <- subset_treatment_timepoints(\n",
    "\tphylo_obj = gut_phylo_raw,\n",
    "\ttreatment = c(\"healthy_control\"),\n",
    "\tgenera_of_interest = genera_of_interest,\n",
    "\ttimepoints = c(\"0\")\n",
    ")\n",
    "\n",
    "# Update sample data for healthy controls\n",
    "sample_data(gut_phylo_healthy_dupi)$timepoint <- \"healthy day 0\"\n",
    "\n",
    "\n",
    "# Merge healthy controls with the existing dupilumab filtered data\n",
    "gut_phylo_comp_modified <- merge_phyloseq(gut_phylo_dupilumab, gut_phylo_healthy_dupi)\n",
    "\n",
    "# Update sample data for the merged phyloseq object\n",
    "sample_data(gut_phylo_comp_modified)$timepoint <- factor(\n",
    "  sample_data(gut_phylo_comp_modified)$timepoint,\n",
    "  levels = c(\"healthy day 0\", \"0\", \"28\", \"90\", \"180\")\n",
    ")\n",
    "\n",
    "gut_phylo_comp_modified"
   ]
  },
  {
   "cell_type": "code",
   "execution_count": null,
   "metadata": {
    "vscode": {
     "languageId": "r"
    }
   },
   "outputs": [],
   "source": [
    "gut_phylo_comp_modified_ancombc2 <- perform_ancombc2(\n",
    "\tgut_phylo_comp_modified,\n",
    "\tfixed_formula = \"timepoint\",\n",
    "\trand_formula = \"(1 | patient)\",\n",
    "\tgroup = \"timepoint\"\n",
    ")\n",
    "\n",
    "saveRDS(gut_phylo_comp_modified_ancombc2,\"../../results/Microbiome_analysis/ANCOM-BC2/gut_phylo_comp_modified_ancombc2.rds\")"
   ]
  },
  {
   "cell_type": "code",
   "execution_count": null,
   "metadata": {
    "vscode": {
     "languageId": "r"
    }
   },
   "outputs": [],
   "source": [
    "gut_phylo_comp_modified_ancombc2 <- readRDS(\"../../results/Microbiome_analysis/ANCOM-BC2/gut_phylo_comp_modified_ancombc2.rds\")"
   ]
  },
  {
   "cell_type": "code",
   "execution_count": null,
   "metadata": {
    "vscode": {
     "languageId": "r"
    }
   },
   "outputs": [],
   "source": [
    "options(repr.plot.width=30, repr.plot.height=5)\n",
    "\n",
    "gut_phylo_comp_modified_ancombc2_heatmap <- plot_ancomb_results_timepoint_healthy(gut_phylo_comp_modified_ancombc2, \"Dupilumab treatment accross different timepoints comapred to healthy day 0 (gut samples)\")\n",
    "gut_phylo_comp_modified_ancombc2_heatmap"
   ]
  },
  {
   "cell_type": "markdown",
   "metadata": {},
   "source": [
    "# Saving plots"
   ]
  },
  {
   "cell_type": "code",
   "execution_count": null,
   "metadata": {
    "vscode": {
     "languageId": "r"
    }
   },
   "outputs": [],
   "source": [
    "# Specify the path where you want to save the plots\n",
    "save_path <- \"../../results/Microbiome_analysis/plots/ANCOM-BC2\"\n",
    "\n",
    "# Create the directory if it doesn't exist\n",
    "if (!dir.exists(save_path)) {\n",
    "  dir.create(save_path, recursive = TRUE)\n",
    "}\n",
    "\n",
    "# Set plot dimensions and DPI\n",
    "plot_width <- 30\n",
    "plot_height <- 25\n",
    "plot_dpi <- 300\n",
    "\n",
    "# Get all variables ending with \"_plot\"\n",
    "plot_vars <- ls(pattern = \"_heatmap$\")\n",
    "\n",
    "# Function to save a plot as both PNG and PDF\n",
    "save_plots <- function(plot_name) {\n",
    "  plot_obj <- get(plot_name)\n",
    "  \n",
    "  # Save as PNG\n",
    "  png_filename <- file.path(save_path, paste0(plot_name, \".png\"))\n",
    "  pdf_filename <- file.path(save_path, paste0(plot_name, \".pdf\"))\n",
    "  \n",
    "  # Check if it's a ggplot object\n",
    "  if (inherits(plot_obj, \"ggplot\")) {\n",
    "    ggsave(png_filename, plot = plot_obj, width = plot_width, height = plot_height, dpi = plot_dpi, units = \"in\")\n",
    "    ggsave(pdf_filename, plot = plot_obj, width = plot_width, height = plot_height, units = \"in\")\n",
    "  } else {\n",
    "    # Assume it's a base R plot\n",
    "    png(png_filename, width = plot_width, height = plot_height, units = \"in\", res = plot_dpi)\n",
    "    print(plot_obj)\n",
    "    dev.off()\n",
    "    \n",
    "    pdf(pdf_filename, width = plot_width, height = plot_height)\n",
    "    print(plot_obj)\n",
    "    dev.off()\n",
    "  }\n",
    "  \n",
    "  cat(\"Saved:\", png_filename, \"\\n\")\n",
    "  cat(\"Saved:\", pdf_filename, \"\\n\")\n",
    "}\n",
    "\n",
    "# Save each plot\n",
    "invisible(sapply(plot_vars, save_plots))\n",
    "\n",
    "cat(\"Saved\", length(plot_vars), \"plots (both PNG and PDF) in\", save_path, \"\\n\")\n",
    "cat(\"Plot dimensions:\", plot_width, \"x\", plot_height, \"inches, DPI:\", plot_dpi, \"\\n\")"
   ]
  },
  {
   "cell_type": "code",
   "execution_count": null,
   "metadata": {
    "vscode": {
     "languageId": "r"
    }
   },
   "outputs": [],
   "source": []
  }
 ],
 "metadata": {
  "kernelspec": {
   "display_name": "R",
   "language": "R",
   "name": "ir"
  },
  "language_info": {
   "codemirror_mode": "r",
   "file_extension": ".r",
   "mimetype": "text/x-r-source",
   "name": "R",
   "pygments_lexer": "r",
   "version": "4.3.2"
  }
 },
 "nbformat": 4,
 "nbformat_minor": 2
}
