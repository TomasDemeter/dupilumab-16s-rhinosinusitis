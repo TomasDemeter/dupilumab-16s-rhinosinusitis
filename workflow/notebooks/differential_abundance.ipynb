{
 "cells": [
  {
   "cell_type": "markdown",
   "metadata": {},
   "source": [
    "# Load libraries and data"
   ]
  },
  {
   "cell_type": "code",
   "execution_count": null,
   "metadata": {
    "vscode": {
     "languageId": "r"
    }
   },
   "outputs": [],
   "source": [
    "library(tidyverse)\n",
    "library(phyloseq)\n",
    "library(microbiome)\n",
    "library(rstatix)\n",
    "library(vegan)\n",
    "library(ggrepel)\n",
    "library(gridExtra)\n",
    "library(rlang)\n",
    "library(viridis)\n",
    "library(ggpubr)\n",
    "\n",
    "options(repr.plot.width=12, repr.plot.height=10)"
   ]
  },
  {
   "cell_type": "code",
   "execution_count": null,
   "metadata": {
    "vscode": {
     "languageId": "r"
    }
   },
   "outputs": [],
   "source": [
    "nasal_phylo_comp <- readRDS(\"../../results/Microbiome_analysis/nasal_samples_clean_comp.rds\")\n",
    "nasal_phylo_comp"
   ]
  },
  {
   "cell_type": "code",
   "execution_count": null,
   "metadata": {
    "vscode": {
     "languageId": "r"
    }
   },
   "outputs": [],
   "source": [
    "nasal_phylo_clr <- readRDS(\"../../results/Microbiome_analysis/nasal_samples_clean_clr.rds\")\n",
    "nasal_phylo_clr"
   ]
  },
  {
   "cell_type": "code",
   "execution_count": null,
   "metadata": {
    "vscode": {
     "languageId": "r"
    }
   },
   "outputs": [],
   "source": [
    "gut_phylo_comp <- readRDS(\"../../results/Microbiome_analysis/gut_samples_clean_comp.rds\")\n",
    "gut_phylo_comp"
   ]
  },
  {
   "cell_type": "code",
   "execution_count": null,
   "metadata": {
    "vscode": {
     "languageId": "r"
    }
   },
   "outputs": [],
   "source": [
    "gut_phylo_clr <- readRDS(\"../../results/Microbiome_analysis/gut_samples_clean_clr.rds\")\n",
    "gut_phylo_clr"
   ]
  },
  {
   "cell_type": "markdown",
   "metadata": {},
   "source": [
    "## Functions"
   ]
  },
  {
   "cell_type": "code",
   "execution_count": null,
   "metadata": {
    "vscode": {
     "languageId": "r"
    }
   },
   "outputs": [],
   "source": [
    "subset_treatment_genera_timepoints <- function(phylo_obj, treatments, genera_of_interest, timepoints) {\n",
    "\t# Get sample data\n",
    "\tsample_data <- data.frame(sample_data(phylo_obj))\n",
    "\n",
    "\t# Filter samples for the specified treatments and timepoints\n",
    "\tsamples_to_keep <- rownames(sample_data)[sample_data$treatment %in% treatments & \n",
    "                                            sample_data$timepoint %in% timepoints]\n",
    "\n",
    "\t# Prune samples\n",
    "\tphylo_filtered <- prune_samples(samples_to_keep, phylo_obj)\n",
    "\n",
    "\t# Get patients present in all specified timepoints\n",
    "\tsamples_df <- data.frame(sample_data(phylo_filtered))\n",
    "\n",
    "\tsamples_at_all_timepoints <- samples_df %>%\n",
    "    group_by(patient) %>%\n",
    "    summarize(timepoint_count = n_distinct(timepoint)) %>%\n",
    "    filter(timepoint_count == length(timepoints)) %>%\n",
    "    pull(patient)\n",
    "\n",
    "\tif(length(samples_at_all_timepoints) == 0) {\n",
    "\t\tstop(\"No patients found with data at all specified timepoints\")\n",
    "\t}\n",
    "\n",
    "\t# Further filter for patients with all timepoints\n",
    "\tsamples_to_keep_final <- rownames(samples_df)[samples_df$patient %in% samples_at_all_timepoints]\n",
    "\tphylo_filtered <- prune_samples(samples_to_keep_final, phylo_filtered)\n",
    "\n",
    "\t# Keep only genera of interest\n",
    "\ttax_table <- as.data.frame(tax_table(phylo_filtered))\n",
    "\ttaxa_to_keep <- rownames(tax_table)[tax_table$Genus %in% genera_of_interest]\n",
    "\tphylo_filtered <- prune_taxa(taxa_to_keep, phylo_filtered)\n",
    "\n",
    "\treturn(phylo_filtered)\n",
    "}\n"
   ]
  },
  {
   "cell_type": "code",
   "execution_count": null,
   "metadata": {
    "vscode": {
     "languageId": "r"
    }
   },
   "outputs": [],
   "source": [
    "prepare_longi <- function(phloseq_object, level) {\n",
    "  aggregate_phylo <- aggregate_rare(phloseq_object, level = level, detection = 5/100, prevalence = 10/100)\n",
    "\n",
    "  return(aggregate_phylo)\n",
    "}"
   ]
  },
  {
   "cell_type": "code",
   "execution_count": null,
   "metadata": {
    "vscode": {
     "languageId": "r"
    }
   },
   "outputs": [],
   "source": [
    "plot_longi <- function(aggregated_phylo, grouping, title) {\n",
    "  options(repr.plot.width = 15, repr.plot.height = 10)\n",
    "  \n",
    "  plot <- plot_composition(\n",
    "    aggregated_phylo,\n",
    "    average_by = grouping\n",
    "  ) +\n",
    "    xlab(grouping) +\n",
    "    ggtitle(title) +\n",
    "    theme_classic() +  \n",
    "    scale_fill_viridis_d(option = \"H\") + \n",
    "    theme(\n",
    "      text = element_text(size = 15),\n",
    "      axis.text.x = element_text(angle = 45, hjust = 1),\n",
    "      axis.text = element_text(size = 18),    \n",
    "      axis.title = element_text(size = 20),\n",
    "      plot.title = element_text(size = 24),\n",
    "      legend.title = element_text(size = 20),\n",
    "      legend.text = element_text(size = 18)\n",
    "    )\n",
    "  \n",
    "  return(plot)\n",
    "}"
   ]
  },
  {
   "cell_type": "code",
   "execution_count": null,
   "metadata": {
    "vscode": {
     "languageId": "r"
    }
   },
   "outputs": [],
   "source": [
    "plot_abundance <- function(phyloseq_clr, phyloseq_comp, comparisons, paired = FALSE, title = \"\", color_palette = NULL) {\n",
    "  options(repr.plot.width=25, repr.plot.height=10)  \n",
    "  \n",
    "  prepare_data <- function(phyloseq) {\n",
    "  # Define timepoint order\n",
    "  timepoint_order <- c(\"healthy day 0\", \"CRSwNP control day 0\", \"0\", \"28\", \"90\", \"180\")\n",
    "  \n",
    "  # Prepare relative abundance data for plotting\n",
    "  plot_data <- psmelt(phyloseq)\n",
    "  plot_data <- plot_data %>%\n",
    "    group_by(Genus, patient, timepoint) %>%\n",
    "    summarise(Abundance = sum(Abundance), .groups = \"drop\") %>%\n",
    "    mutate(\n",
    "\t\t\ttimepoint = factor(timepoint, levels = timepoint_order),\n",
    "\t\t\tAbundance = Abundance\n",
    "\t\t)\n",
    "  \n",
    "  return(plot_data)\n",
    "  }\n",
    "  \n",
    "  perform_statistical_tests <- function(plot_data, comparisons, paired) {\n",
    "\n",
    "    genus_list <- split(plot_data, plot_data$Genus)\n",
    "    \n",
    "    perform_genus_tests <- function(genus_data, comparisons, paired) {\n",
    "      stat_test <- do.call(rbind, lapply(comparisons, function(comp) {\n",
    "        test_data <- genus_data[genus_data$timepoint %in% comp,]\n",
    "        if(nrow(test_data) < 2) return(NULL)  # Skip if not enough data\n",
    "        \n",
    "        test_result <- tryCatch({\n",
    "          suppressWarnings(\n",
    "            wilcox.test(Abundance ~ timepoint, data = test_data, paired = paired)\n",
    "          )\n",
    "        }, error = function(e) NULL)\n",
    "        \n",
    "        if(is.null(test_result)) return(NULL)\n",
    "        \n",
    "        data.frame(\n",
    "          .y. = \"Abundance\",\n",
    "          group1 = comp[1],\n",
    "          group2 = comp[2],\n",
    "          p = test_result$p.value,\n",
    "          method = \"Wilcoxon\",\n",
    "          Genus = unique(genus_data$Genus)\n",
    "        )\n",
    "      }))\n",
    "      \n",
    "      if(is.null(stat_test) || nrow(stat_test) == 0) return(NULL)\n",
    "      \n",
    "      stat_test$p.adj <- p.adjust(stat_test$p, method = \"BH\")\n",
    "      stat_test$p.adj.signif <- ifelse(stat_test$p.adj < 0.001, \"***\",\n",
    "                                        ifelse(stat_test$p.adj < 0.01, \"**\",\n",
    "                                              ifelse(stat_test$p.adj < 0.05, \"*\", \"ns\")))\n",
    "      return(stat_test)\n",
    "    }\n",
    "    \n",
    "    all_tests <- do.call(rbind, lapply(genus_list, perform_genus_tests, \n",
    "                                        comparisons = comparisons, \n",
    "                                        paired = paired))\n",
    "    return(all_tests)\n",
    "  }\n",
    "  \n",
    "  create_plot <- function(df_comp, stat_test){\n",
    "  p <- ggplot(df_comp, aes(x = timepoint, y = Abundance, fill = Genus, color = Genus)) +\n",
    "    geom_boxplot(alpha = 0.7, outlier.shape = NA, color = \"black\") +\n",
    "    geom_jitter(height = 0, width = 0.3, aes(label = patient)) +  \n",
    "    labs(x = \"\", y = \"Abundance\\n\", title = title) +\n",
    "    scale_fill_viridis_d(option = \"H\") +\n",
    "    scale_color_viridis_d(option = \"H\") +\n",
    "    theme_classic() +\n",
    "    facet_wrap(~Genus, scales = \"free_y\") +\n",
    "    theme(legend.position = \"none\",\n",
    "          axis.text = element_text(size = 18),    \n",
    "          axis.title = element_text(size = 20),\n",
    "          strip.text = element_text(size = 20),\n",
    "          plot.title = element_text(size = 24),\n",
    "          axis.text.x = element_text(angle = 45, hjust = 1))\n",
    "\n",
    "    if(!is.null(stat_test) && nrow(stat_test) > 0) {\n",
    "      # Filter for only significant comparisons\n",
    "      significant_stats <- stat_test %>% filter(p.adj.signif != \"ns\")\n",
    "      \n",
    "      for (genus in unique(significant_stats$Genus)) {\n",
    "        genus_stats <- significant_stats %>% filter(Genus == genus)\n",
    "        if (nrow(genus_stats) > 0) {\n",
    "          # Calculate the max abundance for this genus\n",
    "          max_abundance <- max(df_comp$Abundance[df_comp$Genus == genus])\n",
    "          # Set the starting y position to max + 2%\n",
    "          start_y_position <- max_abundance * 1.02\n",
    "\n",
    "          p <- p + stat_pvalue_manual(\n",
    "            genus_stats,\n",
    "            label = \"p.adj.signif\",\n",
    "            tip.length = 0.01,\n",
    "            step.increase = 0.05,\n",
    "            y.position = seq(start_y_position, by = max_abundance * 0.05, length.out = nrow(genus_stats)),\n",
    "            facet.var = \"Genus\"\n",
    "          )\n",
    "        }\n",
    "      }\n",
    "    }\n",
    "    return(p)\n",
    "}\n",
    "\n",
    "\n",
    "  df_clr <- prepare_data(phyloseq_clr)\n",
    "  df_comp <- prepare_data(phyloseq_comp) %>%\n",
    "    mutate(Abundance = Abundance * 100) # convert to percentages\n",
    "\n",
    "  stat_test <- perform_statistical_tests(df_clr, comparisons, paired)\n",
    "  \n",
    "  num_genera <- length(unique(df_comp$Genus))\n",
    "  color_palette <- viridis(num_genera)\n",
    "  plot <- create_plot(df_comp, stat_test)\n",
    "\n",
    "  df_comp <- df_comp %>%\n",
    "  group_by(Genus, timepoint) %>%\n",
    "  summarise(mean_abundance = mean(Abundance))\n",
    "\n",
    "\n",
    "  significant_changes <- stat_test %>%\n",
    "    filter(p.adj.signif != \"ns\") %>%\n",
    "    left_join(df_comp, \n",
    "            by = c(\"Genus\" = \"Genus\", \n",
    "                  \"group1\" = \"timepoint\")) %>%\n",
    "    rename(group1_mean_abundance = mean_abundance) %>%\n",
    "    left_join(df_comp, \n",
    "            by = c(\"Genus\" = \"Genus\", \n",
    "                  \"group2\" = \"timepoint\")) %>%\n",
    "    rename(group2_mean_abundance = mean_abundance) %>%\n",
    "    mutate(mean_abundace_change = group1_mean_abundance - group2_mean_abundance) %>%\n",
    "    select(Genus, group1, group2, group1_mean_abundance, group2_mean_abundance, mean_abundace_change, p.adj)\n",
    "\n",
    "  return(list(plot = plot, significant_changes = significant_changes))\n",
    "}\n"
   ]
  },
  {
   "cell_type": "code",
   "execution_count": null,
   "metadata": {
    "vscode": {
     "languageId": "r"
    }
   },
   "outputs": [],
   "source": [
    "prepare_df_longitudinal_treatment_comparison <- function(phylo_object, selected_timepoint){\n",
    "    df <- psmelt(phylo_object)\n",
    "\n",
    "    df_time <- subset(df, timepoint == selected_timepoint)\n",
    "\n",
    "    df_time <- df_time %>%\n",
    "        group_by(Genus, treatment, patient) %>%\n",
    "        summarise(Abundance = sum(Abundance), .groups = \"drop\")\n",
    "    \n",
    "    return(df_time)\n",
    "\n",
    "}"
   ]
  },
  {
   "cell_type": "code",
   "execution_count": null,
   "metadata": {
    "vscode": {
     "languageId": "r"
    }
   },
   "outputs": [],
   "source": [
    "longitudinal_treatment_comparison_plotting <- function(phyloseq_clr, phyloseq_comp, treatment_groups, title) {\n",
    "  options(repr.plot.width=20, repr.plot.height=10)\n",
    "  \n",
    "  prepare_data <- function(phyloseq) {\n",
    "    plot_data <- psmelt(phyloseq)\n",
    "    plot_data <- plot_data %>%\n",
    "      group_by(Genus, patient, treatment) %>%\n",
    "      summarise(Abundance = sum(Abundance), .groups = \"drop\") %>%\n",
    "      mutate(Abundance = Abundance * 100) \n",
    "    \n",
    "    return(plot_data)\n",
    "  }\n",
    "\n",
    "  calculate_statistical_test <- function(df_clr, group1, group2) {\n",
    "    wilcoxon_results <- df_clr %>%\n",
    "      group_by(Genus) %>%\n",
    "      summarise(\n",
    "        p_value = wilcox.test(\n",
    "          Abundance[treatment == group1],\n",
    "          Abundance[treatment == group2],\n",
    "          paired = FALSE\n",
    "        )$p.value,\n",
    "        .groups = \"drop\"\n",
    "      ) %>%\n",
    "      mutate(\n",
    "        p.adj = p.adjust(p_value, method = \"BH\"), \n",
    "        p.adj.signif = case_when(                 \n",
    "          p.adj < 0.001 ~ \"***\",\n",
    "          p.adj < 0.01 ~ \"**\",\n",
    "          p.adj < 0.05 ~ \"*\",\n",
    "          TRUE ~ \"ns\"\n",
    "        ),\n",
    "        group1 = group1,\n",
    "        group2 = group2\n",
    "      )\n",
    "    \n",
    "    return(wilcoxon_results)\n",
    "  }\n",
    "\n",
    "  create_plot <- function(df_comp, stat_test){\n",
    "  p <- ggplot(df_comp, aes(x = treatment, y = Abundance, fill = Genus, color = Genus)) +\n",
    "    geom_boxplot(alpha = 0.7, outlier.shape = NA, color = \"black\") +\n",
    "    geom_jitter(height = 0, width = 0.3) +\n",
    "    labs(x = \"\", y = \"Abundance (%)\\n\", title = title) +\n",
    "    scale_fill_viridis_d(option = \"H\") +\n",
    "    scale_color_viridis_d(option = \"H\") +\n",
    "    theme_classic() +\n",
    "    facet_wrap(~Genus, scales = \"free_y\") +\n",
    "    theme(legend.position = \"none\",\n",
    "          axis.text = element_text(size = 18),\n",
    "          axis.title = element_text(size = 20),\n",
    "          strip.text = element_text(size = 18),\n",
    "          plot.title = element_text(size = 20))\n",
    "\n",
    "  if(!is.null(stat_test) && nrow(stat_test) > 0) {\n",
    "    # Filter for only significant comparisons\n",
    "    significant_stats <- stat_test %>% filter(p.adj.signif != \"ns\")\n",
    "    \n",
    "    for (genus in unique(significant_stats$Genus)) {\n",
    "      genus_stats <- significant_stats %>% filter(Genus == genus)\n",
    "      if (nrow(genus_stats) > 0) {\n",
    "        max_abundance <- max(df_comp$Abundance[df_comp$Genus == genus])\n",
    "        start_y_position <- max_abundance * 1.02\n",
    "        p <- p + stat_pvalue_manual(\n",
    "          genus_stats,\n",
    "          label = \"p.adj.signif\",\n",
    "          y.position = start_y_position,\n",
    "          tip.length = 0.01,\n",
    "          facet.var = \"Genus\"\n",
    "        )\n",
    "      }\n",
    "    }\n",
    "  }\n",
    "  return(p)\n",
    "}\n",
    "\n",
    "  df_clr <- prepare_data(phyloseq_clr)\n",
    "  df_comp <- prepare_data(phyloseq_comp)\n",
    "\n",
    "  df_clr <- df_clr %>% filter(treatment %in% treatment_groups)\n",
    "  df_comp <- df_comp %>% filter(treatment %in% treatment_groups)\n",
    "  wilcoxon_results <- calculate_statistical_test(df_clr, treatment_groups[1], treatment_groups[2])\n",
    "  plot <- create_plot(df_comp, wilcoxon_results)\n",
    "\n",
    "  df_comp <- df_comp %>%\n",
    "  group_by(Genus, treatment) %>%\n",
    "  summarise(mean_abundance = mean(Abundance))\n",
    "\n",
    "  significant_changes <- wilcoxon_results %>%\n",
    "    filter(p.adj.signif != \"ns\") %>% \n",
    "    left_join(df_comp, \n",
    "            by = c(\"Genus\" = \"Genus\", \n",
    "                  \"group1\" = \"treatment\")) %>%\n",
    "    rename(group1_mean_abundance = mean_abundance) %>%\n",
    "    left_join(df_comp, \n",
    "            by = c(\"Genus\" = \"Genus\", \n",
    "                  \"group2\" = \"treatment\")) %>%\n",
    "    rename(group2_mean_abundance = mean_abundance) %>%\n",
    "    mutate(mean_abundace_change = group1_mean_abundance - group2_mean_abundance) %>%\n",
    "    select(Genus, group1, group2, group1_mean_abundance, group2_mean_abundance, mean_abundace_change, p.adj) \n",
    "\n",
    "  return(list(plot = plot, significant_changes = significant_changes))\n",
    "}"
   ]
  },
  {
   "cell_type": "code",
   "execution_count": null,
   "metadata": {
    "vscode": {
     "languageId": "r"
    }
   },
   "outputs": [],
   "source": [
    "subset_treatment_timepoints <- function(phylo_obj, treatments, genera_of_interest, timepoints) {\n",
    "    # Get sample data\n",
    "    sample_data <- data.frame(sample_data(phylo_obj))\n",
    "    \n",
    "    # Filter samples for the specified treatments and timepoints\n",
    "    samples_to_keep <- rownames(sample_data)[\n",
    "\t\t\tsample_data$treatment %in% treatments & \n",
    "\t\t\tsample_data$timepoint %in% timepoints\n",
    "\t\t]\n",
    "    \n",
    "    # Prune samples\n",
    "    phylo_filtered <- prune_samples(samples_to_keep, phylo_obj)\n",
    "    \n",
    "    # Get patients present in all specified timepoints\n",
    "    samples_df <- data.frame(sample_data(phylo_filtered))\n",
    "    \n",
    "    samples_at_all_timepoints <- samples_df %>%\n",
    "        group_by(patient) %>%\n",
    "        summarize(timepoint_count = n_distinct(timepoint)) %>%\n",
    "        filter(timepoint_count == length(timepoints)) %>%\n",
    "        pull(patient)\n",
    "    \n",
    "    if(length(samples_at_all_timepoints) == 0) {\n",
    "        stop(\"No patients found with data at all specified timepoints\")\n",
    "    }\n",
    "    \n",
    "    # Further filter for patients with all timepoints\n",
    "    samples_to_keep_final <- rownames(samples_df)[samples_df$patient %in% samples_at_all_timepoints]\n",
    "    phylo_filtered <- prune_samples(samples_to_keep_final, phylo_filtered)\n",
    "    \n",
    "    return(phylo_filtered)\n",
    "}"
   ]
  },
  {
   "cell_type": "markdown",
   "metadata": {},
   "source": [
    "# All genera"
   ]
  },
  {
   "cell_type": "markdown",
   "metadata": {},
   "source": [
    "## Dupilumab treatment at different timepoints"
   ]
  },
  {
   "cell_type": "markdown",
   "metadata": {},
   "source": [
    "### Nasal pasage saples"
   ]
  },
  {
   "cell_type": "code",
   "execution_count": null,
   "metadata": {
    "vscode": {
     "languageId": "r"
    }
   },
   "outputs": [],
   "source": [
    "nasal_phylo_comp_dupilumab <-  subset_treatment_timepoints(\n",
    "  phylo_obj = nasal_phylo_comp,\n",
    "  treatments = c(\"Dupilumab_treatment\"),\n",
    "  genera_of_interest = genera_of_interest,\n",
    "  timepoints = c(\"0\", \"28\", \"90\", \"180\")\n",
    ")\n",
    "\n",
    "nasal_phylo_comp_healthy <- subset_treatment_timepoints(\n",
    "\tphylo_obj = nasal_phylo_comp,\n",
    "\ttreatment = c(\"healthy_control\"),\n",
    "\tgenera_of_interest = genera_of_interest,\n",
    "\ttimepoints = c(\"0\")\n",
    ")\n",
    "\n",
    "# Update sample data for healthy controls\n",
    "sample_data(nasal_phylo_comp_healthy)$timepoint <- \"healthy day 0\"\n",
    "\n",
    "# Merge healthy controls with the existing dupilumab filtered data\n",
    "nasal_phylo_comp_modified <- merge_phyloseq(\n",
    "\tnasal_phylo_comp_dupilumab,\n",
    "\tnasal_phylo_comp_healthy\n",
    ")\n",
    "\n",
    "# Update sample data for the merged phyloseq object\n",
    "sample_data(nasal_phylo_comp_modified)$timepoint <- factor(\n",
    "  sample_data(nasal_phylo_comp_modified)$timepoint,\n",
    "  levels = c(\"healthy day 0\", \"0\", \"28\", \"90\", \"180\")\n",
    ")\n",
    "\n",
    "nasal_phylo_comp_modified"
   ]
  },
  {
   "cell_type": "code",
   "execution_count": null,
   "metadata": {
    "vscode": {
     "languageId": "r"
    }
   },
   "outputs": [],
   "source": [
    "nasal_dupilumab_longi <- prepare_longi(nasal_phylo_comp_modified, \"Genus\")\n",
    "\n",
    "nasal_dupilumab_longi_plot <- plot_longi(\n",
    "\tnasal_dupilumab_longi,\n",
    "\t\"timepoint\",\n",
    "\t\"Nasal passsage microbiome of Dupilumab treated patients\"\n",
    ")\n",
    "\n",
    "nasal_dupilumab_longi_plot"
   ]
  },
  {
   "cell_type": "code",
   "execution_count": null,
   "metadata": {
    "vscode": {
     "languageId": "r"
    }
   },
   "outputs": [],
   "source": [
    "# Convert to long format to see detailed breakdown\n",
    "ps_df = psmelt(nasal_dupilumab_longi)\n",
    "\n",
    "ps_df %>%\n",
    "    group_by(timepoint, OTU) %>%\n",
    "    summarise(mean_abundance = mean(Abundance))\n"
   ]
  },
  {
   "cell_type": "markdown",
   "metadata": {},
   "source": [
    "### Gut samples"
   ]
  },
  {
   "cell_type": "code",
   "execution_count": null,
   "metadata": {
    "vscode": {
     "languageId": "r"
    }
   },
   "outputs": [],
   "source": [
    "gut_phylo_comp_dupilumab <-  subset_treatment_timepoints(\n",
    "  phylo_obj = gut_phylo_comp,\n",
    "  treatments = c(\"Dupilumab_treatment\"),\n",
    "  genera_of_interest = genera_of_interest,\n",
    "  timepoints = c(\"0\", \"28\", \"90\", \"180\")\n",
    ")\n",
    "\n",
    "gut_phylo_comp_healthy <- subset_treatment_timepoints(\n",
    "\tphylo_obj = gut_phylo_comp,\n",
    "\ttreatment = c(\"healthy_control\"),\n",
    "\tgenera_of_interest = genera_of_interest,\n",
    "\ttimepoints = c(\"0\")\n",
    ")\n",
    "\n",
    "# Update sample data for healthy controls\n",
    "sample_data(gut_phylo_comp_healthy)$timepoint <- \"healthy day 0\"\n",
    "\n",
    "# Merge healthy controls with the existing dupilumab filtered data\n",
    "gut_phylo_comp_modified <- merge_phyloseq(\n",
    "\tgut_phylo_comp_dupilumab,\n",
    "\tgut_phylo_comp_healthy\n",
    ")\n",
    "\n",
    "# Update sample data for the merged phyloseq object\n",
    "sample_data(gut_phylo_comp_modified)$timepoint <- factor(\n",
    "  sample_data(gut_phylo_comp_modified)$timepoint,\n",
    "  levels = c(\"healthy day 0\", \"0\", \"28\", \"90\", \"180\")\n",
    ")\n",
    "\n",
    "gut_phylo_comp_modified"
   ]
  },
  {
   "cell_type": "code",
   "execution_count": null,
   "metadata": {
    "vscode": {
     "languageId": "r"
    }
   },
   "outputs": [],
   "source": [
    "gut_dupilumab_longi <- prepare_longi(gut_phylo_comp_modified, \"Genus\")\n",
    "\n",
    "gut_dupilumab_longi_plot <- plot_longi(\n",
    "\tgut_dupilumab_longi,\n",
    "\t\"timepoint\",\n",
    "\t\"gut microbiome of Dupilumab treated patients\"\n",
    ")\n",
    "\n",
    "gut_dupilumab_longi_plot"
   ]
  },
  {
   "cell_type": "code",
   "execution_count": null,
   "metadata": {
    "vscode": {
     "languageId": "r"
    }
   },
   "outputs": [],
   "source": [
    "# Convert to long format to see detailed breakdown\n",
    "ps_df = psmelt(gut_dupilumab_longi)\n",
    "\n",
    "ps_df %>%\n",
    "    group_by(timepoint, OTU) %>%\n",
    "    summarise(mean_abundance = mean(Abundance))"
   ]
  },
  {
   "cell_type": "markdown",
   "metadata": {},
   "source": [
    "# Selected genera"
   ]
  },
  {
   "cell_type": "code",
   "execution_count": null,
   "metadata": {
    "vscode": {
     "languageId": "r"
    }
   },
   "outputs": [],
   "source": [
    "genera_of_interest_nasal <- c(\"Staphylococcus\", \"Dolosigranulum\", \"Corynebacterium\", \"Lactobacillus\", \"Lawsonella\", \"Cutibacterium\")\n",
    "genera_of_interest_gut <- c(\"Bifidobacterium\", \"Collinsella\", \"Bacteroides\", \"Ruminococcus\", \"Prevotella\", \"Faecalibacterium\")"
   ]
  },
  {
   "cell_type": "markdown",
   "metadata": {},
   "source": [
    "## Dupilumab samples at different timepoints"
   ]
  },
  {
   "cell_type": "code",
   "execution_count": null,
   "metadata": {
    "vscode": {
     "languageId": "r"
    }
   },
   "outputs": [],
   "source": [
    "comparisons1 <- list(c(\"0\", \"28\"), c(\"0\", \"90\"), c(\"0\", \"180\"),\n",
    "                    c(\"28\", \"90\"), c(\"28\", \"180\"), c(\"90\", \"180\"))"
   ]
  },
  {
   "cell_type": "markdown",
   "metadata": {},
   "source": [
    "### Nasal passage samples"
   ]
  },
  {
   "cell_type": "code",
   "execution_count": null,
   "metadata": {
    "vscode": {
     "languageId": "r"
    }
   },
   "outputs": [],
   "source": [
    "nasal_phylo_clr_dupilumab <-  subset_treatment_genera_timepoints(\n",
    "  phylo_obj = nasal_phylo_clr,\n",
    "  treatments = c(\"Dupilumab_treatment\"),\n",
    "  genera_of_interest = genera_of_interest_nasal,\n",
    "  timepoints = c(\"0\", \"28\", \"90\", \"180\")\n",
    ")\n",
    "\n",
    "nasal_phylo_clr_dupilumab"
   ]
  },
  {
   "cell_type": "code",
   "execution_count": null,
   "metadata": {
    "vscode": {
     "languageId": "r"
    }
   },
   "outputs": [],
   "source": [
    "nasal_phylo_comp_dupilumab <- subset_treatment_genera_timepoints(\n",
    "\tphylo_obj = nasal_phylo_comp,\n",
    "\ttreatments = c(\"Dupilumab_treatment\"),\n",
    "\tgenera_of_interest = genera_of_interest_nasal,\n",
    "\ttimepoints = c(\"0\", \"28\", \"90\", \"180\")\n",
    ")\n",
    "\n",
    "nasal_phylo_comp_dupilumab"
   ]
  },
  {
   "cell_type": "code",
   "execution_count": null,
   "metadata": {
    "vscode": {
     "languageId": "r"
    }
   },
   "outputs": [],
   "source": [
    "nasal_dupilumab_longi_selected <- plot_abundance(\n",
    "\tnasal_phylo_clr_dupilumab,\n",
    "\tnasal_phylo_comp_dupilumab,\n",
    "\tpaired = TRUE, \n",
    "\ttitle = \"Nasal passage microbiota of Dupilumab treated patients\", \n",
    "\tcomparisons = comparisons1\n",
    ")\n",
    "\n",
    "nasal_dupilumab_longi_selected_plot <- nasal_dupilumab_longi_selected$plot\n",
    "nasal_dupilumab_longi_selected_plot"
   ]
  },
  {
   "cell_type": "code",
   "execution_count": null,
   "metadata": {
    "vscode": {
     "languageId": "r"
    }
   },
   "outputs": [],
   "source": [
    "nasal_dupilumab_longi_selected$significant_changes"
   ]
  },
  {
   "cell_type": "markdown",
   "metadata": {},
   "source": [
    "### Gut samples"
   ]
  },
  {
   "cell_type": "code",
   "execution_count": null,
   "metadata": {
    "vscode": {
     "languageId": "r"
    }
   },
   "outputs": [],
   "source": [
    "gut_phylo_clr_dupilumab <- subset_treatment_genera_timepoints(\n",
    "\tphylo_obj = gut_phylo_clr,\n",
    "\ttreatments = c(\"Dupilumab_treatment\"),\n",
    "\tgenera_of_interest = genera_of_interest_gut,\n",
    "\ttimepoints = c(\"0\", \"28\", \"90\", \"180\")\n",
    ")\n",
    "\n",
    "gut_phylo_clr_dupilumab"
   ]
  },
  {
   "cell_type": "code",
   "execution_count": null,
   "metadata": {
    "vscode": {
     "languageId": "r"
    }
   },
   "outputs": [],
   "source": [
    "gut_phylo_comp_dupilumab <- subset_treatment_genera_timepoints(\n",
    "\tphylo_obj = gut_phylo_comp,\n",
    "\ttreatments = c(\"Dupilumab_treatment\"),\n",
    "\tgenera_of_interest = genera_of_interest_gut,\n",
    "\ttimepoints = c(\"0\", \"28\", \"90\", \"180\")\n",
    ")\n",
    "\n",
    "gut_phylo_comp_dupilumab"
   ]
  },
  {
   "cell_type": "code",
   "execution_count": null,
   "metadata": {
    "vscode": {
     "languageId": "r"
    }
   },
   "outputs": [],
   "source": [
    "gut_dupilumab_longi_selected <- plot_abundance(\n",
    "\tgut_phylo_clr_dupilumab,\n",
    "\tgut_phylo_comp_dupilumab,\n",
    "\tpaired = TRUE, \n",
    "\ttitle = \"Gut microbiota of Dupilumab treated patients\", \n",
    "\tcomparisons = comparisons1\n",
    ")\n",
    "\n",
    "gut_dupilumab_longi_selected_plot <- gut_dupilumab_longi_selected$plot\n",
    "gut_dupilumab_longi_selected_plot"
   ]
  },
  {
   "cell_type": "code",
   "execution_count": null,
   "metadata": {
    "vscode": {
     "languageId": "r"
    }
   },
   "outputs": [],
   "source": [
    "gut_dupilumab_longi_selected$significant_changes"
   ]
  },
  {
   "cell_type": "markdown",
   "metadata": {
    "vscode": {
     "languageId": "r"
    }
   },
   "source": [
    "## Healthy controls on day 0 vs Dupilumab all timepoints"
   ]
  },
  {
   "cell_type": "code",
   "execution_count": null,
   "metadata": {
    "vscode": {
     "languageId": "r"
    }
   },
   "outputs": [],
   "source": [
    "comparisons3 <- list(\n",
    "\tc(\"healthy day 0\", \"CRSwNP control day 0\"),\n",
    "\tc(\"healthy day 0\", \"0\"), \n",
    "\tc(\"healthy day 0\", \"28\"), \n",
    "\tc(\"healthy day 0\", \"90\"),\n",
    "\tc(\"healthy day 0\", \"180\")\n",
    ")"
   ]
  },
  {
   "cell_type": "markdown",
   "metadata": {},
   "source": [
    "### Nasal passage samples"
   ]
  },
  {
   "cell_type": "code",
   "execution_count": null,
   "metadata": {
    "vscode": {
     "languageId": "r"
    }
   },
   "outputs": [],
   "source": [
    "nasal_phylo_clr_healthy <- subset_treatment_genera_timepoints(\n",
    "\tphylo_obj = nasal_phylo_clr,\n",
    "\ttreatments = \"healthy_control\",\n",
    "\tgenera_of_interest = genera_of_interest_nasal,\n",
    "\ttimepoints = c(\"0\")\n",
    ")\n",
    "# Update sample data for healthy controls\n",
    "sample_data(nasal_phylo_clr_healthy)$timepoint <- \"healthy day 0\"\n",
    "\n",
    "nasal_phylo_clr_CRS <- subset_treatment_genera_timepoints(\n",
    "\tphylo_obj = nasal_phylo_clr,\n",
    "\ttreatments = \"CRS_control\",\n",
    "\tgenera_of_interest = genera_of_interest_nasal,\n",
    "\ttimepoints = c(\"0\")\n",
    ")\n",
    "\n",
    "# Update sample data for CRS controls\n",
    "sample_data(nasal_phylo_clr_CRS)$timepoint <- \"CRSwNP control day 0\"\n",
    "\n",
    "# Merge controls with the existing dupilumab filtered data\n",
    "nasal_phylo_clr_modified <- merge_phyloseq(nasal_phylo_clr_dupilumab, nasal_phylo_clr_healthy, nasal_phylo_clr_CRS)\n",
    "\n",
    "# Update sample data for the merged phyloseq object\n",
    "sample_data(nasal_phylo_clr_modified)$timepoint <- factor(\n",
    "  sample_data(nasal_phylo_clr_modified)$timepoint,\n",
    "  levels = c(\"healthy day 0\", \"CRSwNP control day 0\", \"0\", \"28\", \"90\", \"180\")\n",
    ")\n",
    "\n",
    "nasal_phylo_clr_modified\n"
   ]
  },
  {
   "cell_type": "code",
   "execution_count": null,
   "metadata": {
    "vscode": {
     "languageId": "r"
    }
   },
   "outputs": [],
   "source": [
    "nasal_phylo_comp_healthy <- subset_treatment_genera_timepoints(\n",
    "\tphylo_obj = nasal_phylo_comp,\n",
    "\ttreatments = \"healthy_control\",\n",
    "\tgenera_of_interest = genera_of_interest_nasal,\n",
    "\ttimepoints = c(\"0\")\n",
    ")\n",
    "# Update sample data for healthy controls\n",
    "sample_data(nasal_phylo_comp_healthy)$timepoint <- \"healthy day 0\"\n",
    "\n",
    "nasal_phylo_comp_CRS <- subset_treatment_genera_timepoints(\n",
    "\tphylo_obj = nasal_phylo_comp,\n",
    "\ttreatments = \"CRS_control\",\n",
    "\tgenera_of_interest = genera_of_interest_nasal,\n",
    "\ttimepoints = c(\"0\")\n",
    ")\n",
    "# Update sample data for CRS controls\n",
    "sample_data(nasal_phylo_comp_CRS)$timepoint <- \"CRSwNP control day 0\"\n",
    "\n",
    "# Merge controls with the existing dupilumab filtered data\n",
    "nasal_phylo_comp_modified <- merge_phyloseq(\n",
    "\tnasal_phylo_comp_dupilumab,\n",
    "\tnasal_phylo_comp_healthy,\n",
    "\tnasal_phylo_comp_CRS\n",
    ")\n",
    "\n",
    "# Update sample data for the merged phyloseq object\n",
    "sample_data(nasal_phylo_comp_modified)$timepoint <- factor(\n",
    "  sample_data(nasal_phylo_comp_modified)$timepoint,\n",
    "  levels = c(\"healthy day 0\", \"CRSwNP control day 0\", \"0\", \"28\", \"90\", \"180\")\n",
    ")\n",
    "\n",
    "nasal_phylo_comp_modified"
   ]
  },
  {
   "cell_type": "code",
   "execution_count": null,
   "metadata": {
    "vscode": {
     "languageId": "r"
    }
   },
   "outputs": [],
   "source": [
    "nasal_dupilumab_healthy_longi_selected <- plot_abundance(\n",
    "\tnasal_phylo_clr_modified,\n",
    "\tnasal_phylo_comp_modified,\n",
    "\tpaired = FALSE, \n",
    "\ttitle = \"Nasal passage microbiota treated by Dupilumab compared to healthy controls on day 0\", \n",
    "\tcomparisons = comparisons3\n",
    ")\n",
    "\n",
    "nasal_dupilumab_healthy_longi_selected_plot <- nasal_dupilumab_healthy_longi_selected$plot\n",
    "nasal_dupilumab_healthy_longi_selected_plot"
   ]
  },
  {
   "cell_type": "code",
   "execution_count": null,
   "metadata": {
    "vscode": {
     "languageId": "r"
    }
   },
   "outputs": [],
   "source": [
    "nasal_dupilumab_healthy_longi_selected$significant_changes"
   ]
  },
  {
   "cell_type": "markdown",
   "metadata": {},
   "source": [
    "### Gut samples"
   ]
  },
  {
   "cell_type": "code",
   "execution_count": null,
   "metadata": {
    "vscode": {
     "languageId": "r"
    }
   },
   "outputs": [],
   "source": [
    "gut_phylo_clr_healthy <- subset_treatment_genera_timepoints(\n",
    "\tphylo_obj = gut_phylo_clr,\n",
    "\ttreatments = \"healthy_control\",\n",
    "\tgenera_of_interest = genera_of_interest_gut,\n",
    "\ttimepoints = c(\"0\")\n",
    ")\n",
    "# Update sample data for healthy controls\n",
    "sample_data(gut_phylo_clr_healthy)$timepoint <- \"healthy day 0\"\n",
    "\n",
    "gut_phylo_clr_CRS <- subset_treatment_genera_timepoints(\n",
    "\tphylo_obj = gut_phylo_clr,\n",
    "\ttreatments = \"CRS_control\",\n",
    "\tgenera_of_interest = genera_of_interest_gut,\n",
    "\ttimepoints = c(\"0\")\n",
    ")\n",
    "# Update sample data for CRS controls\n",
    "sample_data(gut_phylo_clr_CRS)$timepoint <- \"CRSwNP control day 0\"\n",
    "\n",
    "# Merge controls with the existing dupilumab filtered data\n",
    "gut_phylo_clr_modified <- merge_phyloseq(\n",
    "\tgut_phylo_clr_dupilumab,\n",
    "\tgut_phylo_clr_healthy,\n",
    "\tgut_phylo_clr_CRS\n",
    ")\n",
    "\n",
    "# Update sample data for the merged phyloseq object\n",
    "sample_data(gut_phylo_clr_modified)$timepoint <- factor(\n",
    "  sample_data(gut_phylo_clr_modified)$timepoint,\n",
    "  levels = c(\"healthy day 0\", \"CRSwNP control day 0\", \"0\", \"28\", \"90\", \"180\")\n",
    ")\n",
    "\n",
    "gut_phylo_clr_modified"
   ]
  },
  {
   "cell_type": "code",
   "execution_count": null,
   "metadata": {
    "vscode": {
     "languageId": "r"
    }
   },
   "outputs": [],
   "source": [
    "gut_phylo_comp_healthy <- subset_treatment_genera_timepoints(\n",
    "\tphylo_obj = gut_phylo_comp,\n",
    "\ttreatments = \"healthy_control\",\n",
    "\tgenera_of_interest = genera_of_interest_gut,\n",
    "\ttimepoints = c(\"0\")\n",
    ")\n",
    "# Update sample data for healthy controls\n",
    "sample_data(gut_phylo_comp_healthy)$timepoint <- \"healthy day 0\"\n",
    "\n",
    "gut_phylo_comp_CRS <- subset_treatment_genera_timepoints(\n",
    "\tphylo_obj = gut_phylo_comp,\n",
    "\ttreatments = \"CRS_control\",\n",
    "\tgenera_of_interest = genera_of_interest_gut,\n",
    "\ttimepoints = c(\"0\")\n",
    ")\n",
    "# Update sample data for CRS controls\n",
    "sample_data(gut_phylo_comp_CRS)$timepoint <- \"CRSwNP control day 0\"\n",
    "\n",
    "# Merge controls with the existing dupilumab filtered data\n",
    "gut_phylo_comp_modified <- merge_phyloseq(\n",
    "\tgut_phylo_comp_dupilumab,\n",
    "\tgut_phylo_comp_healthy,\n",
    "\tgut_phylo_comp_CRS\n",
    ")\n",
    "\n",
    "# Update sample data for the merged phyloseq object\n",
    "sample_data(gut_phylo_comp_modified)$timepoint <- factor(\n",
    "  sample_data(gut_phylo_comp_modified)$timepoint,\n",
    "  levels = c(\"healthy day 0\", \"CRSwNP control day 0\", \"0\", \"28\", \"90\", \"180\")\n",
    ")\n",
    "\n",
    "gut_phylo_comp_modified"
   ]
  },
  {
   "cell_type": "code",
   "execution_count": null,
   "metadata": {
    "vscode": {
     "languageId": "r"
    }
   },
   "outputs": [],
   "source": [
    "gut_dupilumab_healthy_longi_selected <- plot_abundance(\n",
    "\tgut_phylo_clr_modified,\n",
    "\tgut_phylo_comp_modified,\n",
    "\tpaired = FALSE, \n",
    "\ttitle = \"Gut microbiota treated by Dupilumab compared to healthy controls on day 0\", \n",
    "\tcomparisons = comparisons3\n",
    ")\n",
    "\n",
    "gut_dupilumab_healthy_longi_selected_plot <- gut_dupilumab_healthy_longi_selected$plot\n",
    "gut_dupilumab_healthy_longi_selected_plot"
   ]
  },
  {
   "cell_type": "code",
   "execution_count": null,
   "metadata": {
    "vscode": {
     "languageId": "r"
    }
   },
   "outputs": [],
   "source": [
    "gut_dupilumab_healthy_longi_selected$significant_changes"
   ]
  },
  {
   "cell_type": "markdown",
   "metadata": {},
   "source": [
    "# Saving plots"
   ]
  },
  {
   "cell_type": "code",
   "execution_count": null,
   "metadata": {
    "vscode": {
     "languageId": "r"
    }
   },
   "outputs": [],
   "source": [
    "# Specify the path where you want to save the plots\n",
    "save_path <- \"../../results/Microbiome_analysis/plots/differential_abundance\"\n",
    "\n",
    "# Create the directory if it doesn't exist\n",
    "if (!dir.exists(save_path)) {\n",
    "  dir.create(save_path, recursive = TRUE)\n",
    "}\n",
    "\n",
    "# Set plot dimensions and DPI\n",
    "plot_width <- 25\n",
    "plot_height <- 10\n",
    "plot_dpi <- 300\n",
    "\n",
    "# Get all variables ending with \"_plot\"\n",
    "plot_vars <- ls(pattern = \"_plot$\")\n",
    "\n",
    "# Function to save a plot as both PNG and PDF\n",
    "save_plots <- function(plot_name) {\n",
    "  plot_obj <- get(plot_name)\n",
    "  \n",
    "  # Save as PNG\n",
    "  png_filename <- file.path(save_path, paste0(plot_name, \".png\"))\n",
    "  pdf_filename <- file.path(save_path, paste0(plot_name, \".pdf\"))\n",
    "  \n",
    "  # Check if it's a ggplot object\n",
    "  if (inherits(plot_obj, \"ggplot\")) {\n",
    "    ggsave(png_filename, plot = plot_obj, width = plot_width, height = plot_height, dpi = plot_dpi, units = \"in\")\n",
    "    ggsave(pdf_filename, plot = plot_obj, width = plot_width, height = plot_height, units = \"in\")\n",
    "  } else {\n",
    "    # Assume it's a base R plot\n",
    "    png(png_filename, width = plot_width, height = plot_height, units = \"in\", res = plot_dpi)\n",
    "    print(plot_obj)\n",
    "    dev.off()\n",
    "    \n",
    "    pdf(pdf_filename, width = plot_width, height = plot_height)\n",
    "    print(plot_obj)\n",
    "    dev.off()\n",
    "  }\n",
    "  \n",
    "  cat(\"Saved:\", png_filename, \"\\n\")\n",
    "  cat(\"Saved:\", pdf_filename, \"\\n\")\n",
    "}\n",
    "\n",
    "# Save each plot\n",
    "invisible(sapply(plot_vars, save_plots))\n",
    "\n",
    "cat(\"Saved\", length(plot_vars), \"plots (both PNG and PDF) in\", save_path, \"\\n\")\n",
    "cat(\"Plot dimensions:\", plot_width, \"x\", plot_height, \"inches, DPI:\", plot_dpi, \"\\n\")"
   ]
  },
  {
   "cell_type": "code",
   "execution_count": null,
   "metadata": {
    "vscode": {
     "languageId": "r"
    }
   },
   "outputs": [],
   "source": []
  }
 ],
 "metadata": {
  "kernelspec": {
   "display_name": "R",
   "language": "R",
   "name": "ir"
  },
  "language_info": {
   "codemirror_mode": "r",
   "file_extension": ".r",
   "mimetype": "text/x-r-source",
   "name": "R",
   "pygments_lexer": "r",
   "version": "4.3.2"
  }
 },
 "nbformat": 4,
 "nbformat_minor": 2
}
